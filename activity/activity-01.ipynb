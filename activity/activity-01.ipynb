{
 "cells": [
  {
   "cell_type": "markdown",
   "id": "1299536d-c1ea-44df-8a61-5c514d5c5315",
   "metadata": {},
   "source": [
    "# IST 597 — Activity 01\n",
    "\n",
    "We are using [Instructor](https://python.useinstructor.com/) for structured output\n",
    "from LLMs."
   ]
  },
  {
   "cell_type": "code",
   "execution_count": 4,
   "id": "f7f021e9-ddae-472b-a734-dc087bbb3441",
   "metadata": {},
   "outputs": [],
   "source": [
    "import os\n",
    "import instructor\n",
    "from pydantic import BaseModel\n",
    "from openai import OpenAI\n",
    "import getpass"
   ]
  },
  {
   "cell_type": "code",
   "execution_count": 13,
   "id": "6339ff96-d1d6-4b89-afd0-2a77f5ff705b",
   "metadata": {
    "collapsed": true,
    "jupyter": {
     "outputs_hidden": true
    },
    "scrolled": true
   },
   "outputs": [
    {
     "name": "stdin",
     "output_type": "stream",
     "text": [
      "Your API key: \n",
      " ········\n"
     ]
    }
   ],
   "source": [
    "# You should NEVER share your API keys publicly.\n",
    "\n",
    "# In this case, we are going to save it to a variable\n",
    "\n",
    "\n",
    "_API_KEY = getpass.getpass(\"Your API key: \\n\")"
   ]
  },
  {
   "cell_type": "code",
   "execution_count": 52,
   "id": "9e76b97e-a16b-4c09-b65e-192cba8f43bf",
   "metadata": {},
   "outputs": [
    {
     "name": "stdout",
     "output_type": "stream",
     "text": [
      "Stored '_API_KEY' (str)\n"
     ]
    }
   ],
   "source": [
    "# We will store the API key so that we can access it\n",
    "# throughout other activities\n",
    "%store _API_KEY"
   ]
  },
  {
   "cell_type": "code",
   "execution_count": 3,
   "id": "b3180e6f-f157-4180-b1da-e6f7964da95b",
   "metadata": {},
   "outputs": [],
   "source": [
    "open_ai = OpenAI(api_key=_API_KEY)\n",
    "client = instructor.from_openai(open_ai, mode=instructor.Mode.TOOLS_STRICT)"
   ]
  },
  {
   "cell_type": "code",
   "execution_count": 14,
   "id": "0a41fcce-ff21-44bf-8276-2f9c0287099d",
   "metadata": {},
   "outputs": [],
   "source": [
    "class Response(BaseModel):\n",
    "    message: str"
   ]
  },
  {
   "cell_type": "code",
   "execution_count": 56,
   "id": "b072198c-864f-4149-848e-e58c0c1680a9",
   "metadata": {},
   "outputs": [],
   "source": [
    " def get_response(role, query):\n",
    "    return client.chat.completions.create(\n",
    "        model=\"gpt-4o-mini\",\n",
    "        response_model=Response,\n",
    "        messages=[\n",
    "            {\n",
    "                \"role\": \"user\",\n",
    "                \"content\": f\"{role} {query}\",\n",
    "            },\n",
    "        ],\n",
    "    )"
   ]
  },
  {
   "cell_type": "code",
   "execution_count": 20,
   "id": "4e43182a-23ba-4150-a648-cac8a9bd64ad",
   "metadata": {},
   "outputs": [],
   "source": [
    "role = \"You are a great poet\"\n",
    "query = \"Write a haiku about IST 597 (HCAI): a class focusing on human-centered AI\"\n",
    "\n",
    "r = get_response(role, query)"
   ]
  },
  {
   "cell_type": "code",
   "execution_count": 21,
   "id": "abb38ccb-4ba4-4b29-b52f-d965c99933ab",
   "metadata": {},
   "outputs": [
    {
     "name": "stdout",
     "output_type": "stream",
     "text": [
      "Human and machine,\n",
      "Together weaving insights,\n",
      "Hearts code, minds embrace.\n"
     ]
    }
   ],
   "source": [
    "print(r.message)"
   ]
  },
  {
   "cell_type": "markdown",
   "id": "99fb4add-136a-47d9-a0b8-34da62de2382",
   "metadata": {},
   "source": [
    "**What are the options in `client.chat.completions.create`?**\n",
    "\n",
    "Described in the [API documentation](https://platform.openai.com/docs/guides/text-generation?lang=python). Take a look at different roles:\n",
    "* user\n",
    "* developer\n",
    "* assistant"
   ]
  },
  {
   "cell_type": "code",
   "execution_count": 54,
   "id": "91a82085-5f26-4727-876c-f98dc9183733",
   "metadata": {},
   "outputs": [
    {
     "data": {
      "text/plain": [
       "ChatCompletion(id='chatcmpl-AsyvAFZUH2FRm8ologTUfK8e2rlrb', choices=[Choice(finish_reason='stop', index=0, logprobs=None, message=ChatCompletionMessage(content=None, refusal=None, role='assistant', audio=None, function_call=None, tool_calls=[ChatCompletionMessageToolCall(id='call_fC0gnVdp6NU11CpdN7GUdrql', function=Function(arguments='{\"message\":\"Human minds align,  \\\\nCrafting AI with pure heart,  \\\\nTogether we rise.\"}', name='Response'), type='function')]))], created=1737667256, model='gpt-4o-mini-2024-07-18', object='chat.completion', service_tier='default', system_fingerprint='fp_72ed7ab54c', usage=CompletionUsage(completion_tokens=26, prompt_tokens=72, total_tokens=98, completion_tokens_details=CompletionTokensDetails(accepted_prediction_tokens=None, audio_tokens=0, reasoning_tokens=0, rejected_prediction_tokens=None), prompt_tokens_details=None, prompt_token_details=PromptTokensDetails(audio_tokens=0, cached_tokens=0)))"
      ]
     },
     "execution_count": 54,
     "metadata": {},
     "output_type": "execute_result"
    }
   ],
   "source": [
    "r._raw_response"
   ]
  },
  {
   "cell_type": "markdown",
   "id": "5e3d120d-90be-4464-9eb7-fc50b5ea23e1",
   "metadata": {},
   "source": [
    "**These values represent the raw output returned by the API**\n",
    "\n",
    "You can see the object model described in the [documentation](https://platform.openai.com/docs/api-reference/chat/object)."
   ]
  },
  {
   "cell_type": "markdown",
   "id": "61e369c7-cfaf-47de-9ec8-fc6d2cc779b3",
   "metadata": {},
   "source": [
    "## Different roles\n",
    "\n",
    "Let's explore `user` and `developer` [roles](https://platform.openai.com/docs/guides/text-generation?lang=python).\n"
   ]
  },
  {
   "cell_type": "code",
   "execution_count": 27,
   "id": "071e8825-c081-4618-a1a0-68e5d19af3d5",
   "metadata": {},
   "outputs": [],
   "source": [
    "class Email(BaseModel):\n",
    "    subject: str\n",
    "    message: str"
   ]
  },
  {
   "cell_type": "code",
   "execution_count": 59,
   "id": "325438b4-539c-47ce-97b5-3be952f6553b",
   "metadata": {},
   "outputs": [],
   "source": [
    "def generate_email(developer, subject, to, sender, tone):\n",
    "    return client.chat.completions.create(\n",
    "        model=\"gpt-4o-mini\",\n",
    "        messages=[\n",
    "            {\n",
    "                \"role\": \"developer\",\n",
    "                \"content\": developer,\n",
    "            },\n",
    "            {\n",
    "                \"role\": \"user\",\n",
    "                \"content\": f\"\"\"\n",
    "                Write an email about {subject} to {to} from {sender}.\n",
    "                The email should be {tone}.\n",
    "                \"\"\",\n",
    "            }\n",
    "        ],\n",
    "        response_model=Email,\n",
    "    )"
   ]
  },
  {
   "cell_type": "code",
   "execution_count": 60,
   "id": "647f88d8-5713-4848-ad80-a5c1f8c7c612",
   "metadata": {},
   "outputs": [],
   "source": [
    "r = generate_email(developer=\"Respond in English\",\n",
    "               subject=\"Request for extending the assignment deadline\",\n",
    "               to=\"professor\",\n",
    "               sender=\"student\",\n",
    "               tone=\"formal\")"
   ]
  },
  {
   "cell_type": "code",
   "execution_count": 61,
   "id": "9793321c-0b6a-4928-8c96-ffc870b8540d",
   "metadata": {},
   "outputs": [
    {
     "name": "stdout",
     "output_type": "stream",
     "text": [
      "Request for Extension of Assignment Deadline\n"
     ]
    }
   ],
   "source": [
    "print(r.subject)"
   ]
  },
  {
   "cell_type": "code",
   "execution_count": 62,
   "id": "9c72c5ee-af79-4343-b144-15c293478de7",
   "metadata": {},
   "outputs": [
    {
     "name": "stdout",
     "output_type": "stream",
     "text": [
      "Dear Professor [Last Name],\n",
      "\n",
      "I hope this message finds you well. I am writing to formally request an extension on the upcoming assignment due on [original deadline date]. \n",
      "\n",
      "Due to [brief explanation of your reasons, e.g., unforeseen personal circumstances, illness, or workload], I am concerned that I will not be able to complete the assignment to the best of my ability within the original timeframe. I want to ensure that I can submit work that reflects my true potential.\n",
      "\n",
      "I would greatly appreciate it if you could grant me an extension until [proposed new deadline]. I believe that this additional time will allow me to deliver a more comprehensive and thoughtful assignment.\n",
      "\n",
      "Thank you very much for considering my request. I am looking forward to your understanding and support.\n",
      "\n",
      "Sincerely,\n",
      "\n",
      "[Your Full Name]\n",
      "[Your Student ID]\n",
      "[Your Course Name]\n",
      "[Your Contact Information]\n"
     ]
    }
   ],
   "source": [
    "print(r.message)"
   ]
  },
  {
   "cell_type": "code",
   "execution_count": 63,
   "id": "5baf47a9-475f-484d-86f1-83731f67f7b7",
   "metadata": {},
   "outputs": [],
   "source": [
    "r = generate_email(developer=\"Respond in Spanish\",\n",
    "               subject=\"Request for extending the assignment deadline\",\n",
    "               to=\"professor\",\n",
    "               sender=\"student\",\n",
    "               tone=\"formal\")"
   ]
  },
  {
   "cell_type": "code",
   "execution_count": 64,
   "id": "bd0cd029-8777-4374-a4bf-17d820593501",
   "metadata": {},
   "outputs": [
    {
     "name": "stdout",
     "output_type": "stream",
     "text": [
      "Estimado Profesor [Apellido del Profesor],\n",
      "\n",
      "Espero que se encuentre bien. Me dirijo a usted para solicitar una extensión en el plazo de entrega de la tarea asignada para [nombre de la asignatura], cuya fecha límite es el [fecha de entrega original]. \n",
      "\n",
      "Lamentablemente, debido a [breve explicación de la razón, como problemas personales, enfermedades, carga de trabajo excesiva, etc.], me he visto en la necesidad de solicitar más tiempo para completar la tarea de manera adecuada. Estoy comprometido con mis estudios y quiero entregar un trabajo que refleje mi esfuerzo y dedicación. \n",
      "\n",
      "Agradecería mucho si pudiera considerar mi solicitud y permitirme un plazo adicional hasta [nueva fecha sugerida]. Estoy dispuesto a discutir esto en persona si lo considera necesario.\n",
      "\n",
      "Agradezco de antemano su comprensión y apoyo.\n",
      "\n",
      "Atentamente,\n",
      "\n",
      "[Tu Nombre]  \n",
      "[Tu Número de Estudiante]  \n",
      "[Tu Curso]  \n",
      "[Tu Correo Electrónico]\n"
     ]
    }
   ],
   "source": [
    "print(r.message)"
   ]
  },
  {
   "cell_type": "code",
   "execution_count": null,
   "id": "c47546b0-62cf-4b08-832a-265112812594",
   "metadata": {},
   "outputs": [],
   "source": []
  }
 ],
 "metadata": {
  "kernelspec": {
   "display_name": "Python 3 (ipykernel)",
   "language": "python",
   "name": "python3"
  },
  "language_info": {
   "codemirror_mode": {
    "name": "ipython",
    "version": 3
   },
   "file_extension": ".py",
   "mimetype": "text/x-python",
   "name": "python",
   "nbconvert_exporter": "python",
   "pygments_lexer": "ipython3",
   "version": "3.13.1"
  }
 },
 "nbformat": 4,
 "nbformat_minor": 5
}
