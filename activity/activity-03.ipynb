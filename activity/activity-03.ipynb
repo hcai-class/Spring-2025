{
 "cells": [
  {
   "cell_type": "code",
   "execution_count": 1,
   "id": "a4a822df-af54-40a5-a8d4-175cc51fc17b",
   "metadata": {},
   "outputs": [],
   "source": [
    "%load_ext jupyter_black"
   ]
  },
  {
   "cell_type": "code",
   "execution_count": 44,
   "id": "bb18f42e-e2ee-4e8f-9e6b-59020aa5d613",
   "metadata": {},
   "outputs": [],
   "source": [
    "import os\n",
    "import pathlib\n",
    "import instructor\n",
    "from pydantic import BaseModel\n",
    "from openai import OpenAI\n",
    "import getpass\n",
    "import pymupdf\n",
    "import pymupdf4llm\n"
   ]
  },
  {
   "cell_type": "code",
   "execution_count": 7,
   "id": "4ec65525-7bc0-4ce8-bed7-df3dfe8d1734",
   "metadata": {},
   "outputs": [
    {
     "name": "stdin",
     "output_type": "stream",
     "text": [
      "Your API key: \n",
      " ········\n"
     ]
    }
   ],
   "source": [
    "_API_KEY = getpass.getpass(\"Your API key: \\n\")"
   ]
  },
  {
   "cell_type": "code",
   "execution_count": 8,
   "id": "e69f10d9-c9b7-4b7e-b72e-fd2fffff73ec",
   "metadata": {},
   "outputs": [],
   "source": [
    "open_ai = OpenAI(api_key=_API_KEY)\n",
    "client = instructor.from_openai(open_ai, mode=instructor.Mode.TOOLS_STRICT)"
   ]
  },
  {
   "cell_type": "code",
   "execution_count": 9,
   "id": "c8c70a72-1bd9-44f6-b9de-554763a29619",
   "metadata": {},
   "outputs": [],
   "source": [
    "class Response(BaseModel):\n",
    "    message: str"
   ]
  },
  {
   "cell_type": "code",
   "execution_count": 13,
   "id": "955dd5a1-57ea-406d-b7b4-270c53531f73",
   "metadata": {},
   "outputs": [],
   "source": [
    "def get_response(query, url):\n",
    "    return client.chat.completions.create(\n",
    "        model=\"gpt-4o-mini\",\n",
    "        response_model=Response,\n",
    "        messages=[\n",
    "            {\n",
    "                \"role\": \"developer\",\n",
    "                \"content\": \"You are a world-class expert. You will analyze the document at the given URL and answer the query.\",\n",
    "            },\n",
    "            {\"role\": \"user\", \"content\": f\"url: {url}\"},\n",
    "            {\n",
    "                \"role\": \"user\",\n",
    "                \"content\": f\"{query}\",\n",
    "            },\n",
    "        ],\n",
    "    )"
   ]
  },
  {
   "cell_type": "code",
   "execution_count": 14,
   "id": "f63018fa-cd8e-4848-974c-c01511e85833",
   "metadata": {},
   "outputs": [],
   "source": [
    "r = get_response(\n",
    "    \"Who is the highest paid employee?\",\n",
    "    \"https://budgetandfinance.psu.edu/sites/budgetandfinance/files/right_to_know_2023_0.pdf\",\n",
    ")"
   ]
  },
  {
   "cell_type": "code",
   "execution_count": 15,
   "id": "831f1064-52e9-4f87-ade5-341f6e0989f9",
   "metadata": {},
   "outputs": [
    {
     "name": "stdout",
     "output_type": "stream",
     "text": [
      "I currently cannot access external websites or documents directly. However, you can view the document at the provided URL and search for sections that typically contain such information, like \"Highest Paid Employees\" or similar headings. If you need further assistance with analyzing the document after you've accessed it, feel free to ask!\n"
     ]
    }
   ],
   "source": [
    "print(r.message)"
   ]
  },
  {
   "cell_type": "code",
   "execution_count": 36,
   "id": "2779ab14-1c98-4a4a-a68e-a3079c1f506a",
   "metadata": {},
   "outputs": [],
   "source": [
    "# data from https://budgetandfinance.psu.edu/budget-allocations\n",
    "\n",
    "table = \"\"\"\n",
    "  UP Colleges                              FY26 Budget   FY27 Budget   FY27 Reduction   FY27 Change\n",
    "  -------------------------------------- ------------- ------------- ---------------- -------------\n",
    "  Agriculture Sciences (General Funds)      32,230,886    32,762,270          531,384         1.65%\n",
    "  Arts & Architecture                       42,370,572    42,785,632          415,060         0.98%\n",
    "  Business, Smeal                           88,192,376    94,641,413        6,449,037         7.31%\n",
    "  Communications, Bellisario                22,147,211    25,462,815        3,315,604        14.97%\n",
    "  Earth & Mineral Sciences                  51,423,487    51,643,168          219,680         0.43%\n",
    "  Education                                 37,565,599    36,229,442      (1,336,157)        -3.56%\n",
    "  Engineering                              128,971,069   129,244,355          273,286         0.21%\n",
    "  Health & Human Development                67,487,969    72,077,693        4,589,724         6.80%\n",
    "  Information Sciences & Technology         32,587,758    36,627,971        4,040,213        12.40%\n",
    "  International Affairs                      2,464,550     2,054,674        (409,876)       -16.63%\n",
    "  Liberal Arts                             164,960,545   170,149,349        5,188,805         3.15%\n",
    "  Nursing, Nese                             17,071,041    16,710,190        (360,850)        -2.11%\n",
    "  Penn State Dickinson Law                  19,023,564    16,725,000      (2,298,564)       -12.08%\n",
    "  Science, Eberly                          128,190,811   134,408,900        6,218,089         4.85%\n",
    "\"\"\"\n",
    "\n"
   ]
  },
  {
   "cell_type": "code",
   "execution_count": 37,
   "id": "0ffe9b66-a1a4-47b6-bbe4-5d41b8344d79",
   "metadata": {},
   "outputs": [],
   "source": [
    "class BudgetAnswer(BaseModel):\n",
    "    amount: float"
   ]
  },
  {
   "cell_type": "code",
   "execution_count": 59,
   "id": "1fd00773-b60a-46d3-9c9b-157e23d0076a",
   "metadata": {},
   "outputs": [],
   "source": [
    "def extract_from_table(query, table):\n",
    "    return client.chat.completions.create(\n",
    "        model=\"gpt-4o-mini\",\n",
    "        response_model=BudgetAnswer,\n",
    "        messages=[\n",
    "            {\n",
    "                \"role\": \"developer\",\n",
    "                \"content\": \"You are a world-class expert. You will analyze the given markdown tables and answer the query.\",\n",
    "            },\n",
    "            {\"role\": \"user\", \"content\": f\"tables: {table}\"},\n",
    "            {\n",
    "                \"role\": \"user\",\n",
    "                \"content\": f\"query: {query}\",\n",
    "            },\n",
    "        ],\n",
    "    )"
   ]
  },
  {
   "cell_type": "code",
   "execution_count": 60,
   "id": "e3f30ed9-5445-424b-8770-6dab4cbb9ece",
   "metadata": {},
   "outputs": [],
   "source": [
    "q = \"How much money is allocated for Information Sciences & Technology in FY27?\"\n",
    "r = extract_from_table(q, table)"
   ]
  },
  {
   "cell_type": "code",
   "execution_count": 42,
   "id": "a9058ea0-b6cb-49a2-83af-59fcfcbd9c89",
   "metadata": {},
   "outputs": [],
   "source": [
    "# If you want to pretty print: \n",
    "# print(f\"{r.amount:0,.2f}\")\n",
    "# 36,627,971.00"
   ]
  },
  {
   "cell_type": "code",
   "execution_count": 61,
   "id": "1c2f1d84-d622-47da-8ced-9d2dbaee4d13",
   "metadata": {},
   "outputs": [
    {
     "name": "stdout",
     "output_type": "stream",
     "text": [
      "36627971.0\n"
     ]
    }
   ],
   "source": [
    "print(r.amount)"
   ]
  },
  {
   "cell_type": "markdown",
   "id": "1cf8cf42-f295-4c7b-8d5f-65a579c83e5d",
   "metadata": {},
   "source": [
    "# Todo: Which UP colleges have the highest positive and negative percentage changes?"
   ]
  },
  {
   "cell_type": "markdown",
   "id": "80af3969-3e86-4bde-be1f-a93f2ff2664d",
   "metadata": {},
   "source": [
    "# Todo: Analyze the allocation for other units\n",
    "\n",
    "\n",
    "Steps:\n",
    "\n",
    "\n",
    "1. Add data from: `other-units-allocation.md`\n",
    "2. Come up with 3 questions to answer\n",
    "3. Complete code to answer these questions\n",
    "4. Check answers for accuracy"
   ]
  },
  {
   "cell_type": "markdown",
   "id": "bc778a38-976c-48d5-94f3-17b6832846d5",
   "metadata": {},
   "source": [
    "# Using data from pdf\n",
    "\n",
    "I'd like to use data from [Right To Know Law Reports from Penn State](https://budgetandfinance.psu.edu/public-reports#:~:text=Right%20To%20Know%20Law%20Report)."
   ]
  },
  {
   "cell_type": "markdown",
   "id": "6b7c5cd9-52b5-423f-bf3d-5b8bf9609ca3",
   "metadata": {},
   "source": [
    "# What if we try to extract data directly from the pdf file?\n",
    "\n",
    "Two steps:\n",
    "* extract textual data from the pdf using an external library `pymupdf4llm`\n",
    "* use the textual data as part of the prompt\n",
    "\n",
    "First, we will have to make the pdf file available. If you are using the class `jupyterhub`,\n",
    "you will need to the following two steps:\n",
    "\n",
    "1. Create two folders: `data` and within it `data-activity-03` using the interface. That is,\n",
    "the folder structure should be nested (`data/data-activity-03`)\n",
    "\n",
    "2. Then, upload the `psu-right-to-know-form-990.pdf` file to `data-activity-03`"
   ]
  },
  {
   "cell_type": "code",
   "execution_count": 56,
   "id": "93f11571-cd0f-4bad-af42-4e85cac4d72d",
   "metadata": {},
   "outputs": [
    {
     "name": "stdout",
     "output_type": "stream",
     "text": [
      "Processing ./data/data-activity-03/2023-psu-right-to-know-form-990.pdf...\n",
      "]========================================] (6/6)\n"
     ]
    }
   ],
   "source": [
    "form_990_2023_md = pymupdf4llm.to_markdown(\"./data/data-activity-03/2023-psu-right-to-know-form-990.pdf\")"
   ]
  },
  {
   "cell_type": "code",
   "execution_count": 57,
   "id": "628fe313-fa2e-4337-ba53-7b23f9d8dbe4",
   "metadata": {},
   "outputs": [
    {
     "name": "stdout",
     "output_type": "stream",
     "text": [
      "# Part VII Compensation of Officers, Directors, Trustees, Key Employees, Highest Compensated Employees, and Independent Contractors Check if Schedule O contains a response or note to any line in this Part VII . . . . . . . . . . . . . Section A. Officers, Directors, Trustees, Key Employees, and Highest Compensated Employees\n",
      "**1a** Complete this table for all persons required to be listed. Report compensation for the calendar year ending with or within the\n",
      "organization’s tax year.\n",
      "\n",
      "  - List all of the organization’s current officers, directors, trustees (whether individuals or organizations), regardless of amount of\n",
      "compensation. Enter -0- in columns (D), (E), and (F) if no compensation was paid.\n",
      "\n",
      "  - List all of the organization’s current key employees, if any. See the instructions for definition of “key employee.”\n",
      "\n",
      "  - List the organization’s five **current** highest compensated employees (other than an officer, director, trustee, or key employee)\n",
      "who received reportable compensation \n"
     ]
    }
   ],
   "source": [
    "# how does it look?\n",
    "# first 1000 hundred chars\n",
    "print(form_990_2023_md[:1000])"
   ]
  },
  {
   "cell_type": "code",
   "execution_count": null,
   "id": "ae39157b-89b3-47be-88b2-5d06ee8d397a",
   "metadata": {},
   "outputs": [],
   "source": []
  },
  {
   "cell_type": "code",
   "execution_count": 51,
   "id": "2842f82a-1691-4f05-a9e0-80ca4f18b731",
   "metadata": {},
   "outputs": [],
   "source": [
    "def extract_from_markdown(query, markdown_source):\n",
    "    return client.chat.completions.create(\n",
    "        model=\"gpt-4o-mini\",\n",
    "        response_model=Response,\n",
    "        messages=[\n",
    "            {\n",
    "                \"role\": \"developer\",\n",
    "                \"content\": \"You are a world-class expert. You will analyze the given markdown content and answer the query.\",\n",
    "            },\n",
    "            {\"role\": \"user\", \"content\": f\"markdown: {markdown_source}\"},\n",
    "            {\n",
    "                \"role\": \"user\",\n",
    "                \"content\": f\"query: {query}\",\n",
    "            },\n",
    "        ],\n",
    "    )"
   ]
  },
  {
   "cell_type": "code",
   "execution_count": 58,
   "id": "33a70637-8182-4d42-a1db-7f39b0785d6e",
   "metadata": {},
   "outputs": [],
   "source": [
    "q = \"How much did James Franklin earn?\"\n",
    "r = extract_from_markdown(q, form_990_2023_md)"
   ]
  },
  {
   "cell_type": "code",
   "execution_count": 53,
   "id": "08855970-01eb-4d2c-97a0-650ed544d330",
   "metadata": {},
   "outputs": [
    {
     "name": "stdout",
     "output_type": "stream",
     "text": [
      "James Franklin earned a total reportable compensation of **$8,455,055** from the organization for the calendar year.\n"
     ]
    }
   ],
   "source": [
    "print(r.message)"
   ]
  },
  {
   "cell_type": "markdown",
   "id": "4e4aafaa-a58c-4b4f-9517-8fcd36e79170",
   "metadata": {},
   "source": [
    "# ToDo: Could we use BudgetAnswer class as `response_model` here?"
   ]
  },
  {
   "cell_type": "markdown",
   "id": "c1bac871-f2ff-4a2a-bbd9-84ed152fd1a7",
   "metadata": {},
   "source": [
    "# ToDos:\n",
    "\n",
    "* How much did the CEO of Penn State Health earn?\n",
    "* What was the biggest source of PSU revenue?\n",
    "* How much did Penn State spend on advertising and promotion?\n",
    "* How much did IST Dean earn?"
   ]
  },
  {
   "cell_type": "markdown",
   "id": "a034a387-eab6-4345-b2e2-c9801726ac0e",
   "metadata": {},
   "source": [
    "# ToDo: Analyze the 2018 Form 990\n",
    "\n",
    "## Following the 2018 form:\n",
    "\n",
    "* Who was the top earner at Penn State?\n",
    "* Who was the top fifth earner at Penn State?\n",
    "* How much did the CEO of Penn State Health earn?\n",
    "* What was the biggest source of PSU revenue?\n",
    "* How much did Penn State spend on advertising and promotion?\n",
    "* How much did IST Dean earn?"
   ]
  },
  {
   "cell_type": "code",
   "execution_count": null,
   "id": "c2fd4aa1-bf58-4c93-806d-d4e4897ccbcd",
   "metadata": {},
   "outputs": [],
   "source": []
  }
 ],
 "metadata": {
  "kernelspec": {
   "display_name": "Python 3 (ipykernel)",
   "language": "python",
   "name": "python3"
  },
  "language_info": {
   "codemirror_mode": {
    "name": "ipython",
    "version": 3
   },
   "file_extension": ".py",
   "mimetype": "text/x-python",
   "name": "python",
   "nbconvert_exporter": "python",
   "pygments_lexer": "ipython3",
   "version": "3.13.1"
  }
 },
 "nbformat": 4,
 "nbformat_minor": 5
}
