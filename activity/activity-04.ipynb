{
 "cells": [
  {
   "cell_type": "code",
   "execution_count": 1,
   "id": "a5be9996-baa3-41af-8560-3047b5992ef4",
   "metadata": {},
   "outputs": [],
   "source": [
    "%load_ext jupyter_black"
   ]
  },
  {
   "cell_type": "code",
   "execution_count": 209,
   "id": "9dd50957-8f37-4188-81b6-31972cb6c58a",
   "metadata": {},
   "outputs": [],
   "source": [
    "import os\n",
    "import pathlib\n",
    "import getpass\n",
    "from openai import OpenAI\n",
    "import marvin\n",
    "from marvin.beta.assistants import (\n",
    "    Assistant,\n",
    "    CodeInterpreter,\n",
    "    FileSearch,\n",
    "    Thread,\n",
    "    PrintHandler,\n",
    ")\n",
    "from marvin.beta.assistants.formatting import pprint_messages"
   ]
  },
  {
   "cell_type": "code",
   "execution_count": 96,
   "id": "bfc4fce7-2ac9-42cf-856c-7f9435bbe0fb",
   "metadata": {},
   "outputs": [
    {
     "name": "stdin",
     "output_type": "stream",
     "text": [
      "Your API key: \n",
      " ········\n"
     ]
    }
   ],
   "source": [
    "_API_KEY = getpass.getpass(\"Your API key: \\n\")"
   ]
  },
  {
   "cell_type": "code",
   "execution_count": 208,
   "id": "0ae5aeed-7faa-40d3-88d5-9064fa0524da",
   "metadata": {},
   "outputs": [],
   "source": [
    "client = OpenAI(api_key=_API_KEY)"
   ]
  },
  {
   "cell_type": "code",
   "execution_count": 101,
   "id": "a790c81a-dbbd-4e70-9f9a-234ae69d8946",
   "metadata": {},
   "outputs": [],
   "source": [
    "marvin.settings.openai.api_key = _API_KEY"
   ]
  },
  {
   "cell_type": "code",
   "execution_count": 136,
   "id": "df94f139-fba1-4a6a-9560-246c25eb0c66",
   "metadata": {},
   "outputs": [],
   "source": [
    "ai = Assistant(name=\"HCAI IST 597 Assistant\", model=\"gpt-4o-mini\")"
   ]
  },
  {
   "cell_type": "code",
   "execution_count": 137,
   "id": "3a81ec66-099a-419c-9693-ad51534429b4",
   "metadata": {},
   "outputs": [
    {
     "data": {
      "text/html": [
       "<pre style=\"white-space:pre;overflow-x:auto;line-height:normal;font-family:Menlo,'DejaVu Sans Mono',consolas,'Courier New',monospace\"><span style=\"color: #008000; text-decoration-color: #008000\">╭─ </span><span style=\"color: #008000; text-decoration-color: #008000; font-weight: bold\">User</span><span style=\"color: #008000; text-decoration-color: #008000\"> ───────────────────────────────────────────────────────────────────────────────────────────╮</span>\n",
       "<span style=\"color: #008000; text-decoration-color: #008000\">│</span>                                                                                                  <span style=\"color: #008000; text-decoration-color: #008000\">│</span>\n",
       "<span style=\"color: #008000; text-decoration-color: #008000\">│</span>  hi                                                                                              <span style=\"color: #008000; text-decoration-color: #008000\">│</span>\n",
       "<span style=\"color: #008000; text-decoration-color: #008000\">│</span>                                                                                                  <span style=\"color: #008000; text-decoration-color: #008000\">│</span>\n",
       "<span style=\"color: #008000; text-decoration-color: #008000\">╰──────────────────────────────────────────────────────────────────────────────────── </span><span style=\"color: #008000; text-decoration-color: #008000; font-style: italic\"> 7:22:23 PM</span><span style=\"color: #008000; text-decoration-color: #008000\"> ─╯</span>\n",
       "<span style=\"color: #000080; text-decoration-color: #000080\">╭─ </span><span style=\"color: #000080; text-decoration-color: #000080; font-weight: bold\">Assistant</span><span style=\"color: #000080; text-decoration-color: #000080\"> ──────────────────────────────────────────────────────────────────────────────────────╮</span>\n",
       "<span style=\"color: #000080; text-decoration-color: #000080\">│</span>                                                                                                  <span style=\"color: #000080; text-decoration-color: #000080\">│</span>\n",
       "<span style=\"color: #000080; text-decoration-color: #000080\">│</span>  Hello! How can I assist you today?                                                              <span style=\"color: #000080; text-decoration-color: #000080\">│</span>\n",
       "<span style=\"color: #000080; text-decoration-color: #000080\">│</span>                                                                                                  <span style=\"color: #000080; text-decoration-color: #000080\">│</span>\n",
       "<span style=\"color: #000080; text-decoration-color: #000080\">╰──────────────────────────────────────────────────────────────────────────────────── </span><span style=\"color: #000080; text-decoration-color: #000080; font-style: italic\"> 7:22:25 PM</span><span style=\"color: #000080; text-decoration-color: #000080\"> ─╯</span>\n",
       "</pre>\n"
      ],
      "text/plain": [
       "\u001b[32m╭─\u001b[0m\u001b[32m \u001b[0m\u001b[1;32mUser\u001b[0m\u001b[32m \u001b[0m\u001b[32m──────────────────────────────────────────────────────────────────────────────────────────\u001b[0m\u001b[32m─╮\u001b[0m\n",
       "\u001b[32m│\u001b[0m                                                                                                  \u001b[32m│\u001b[0m\n",
       "\u001b[32m│\u001b[0m  hi                                                                                              \u001b[32m│\u001b[0m\n",
       "\u001b[32m│\u001b[0m                                                                                                  \u001b[32m│\u001b[0m\n",
       "\u001b[32m╰─\u001b[0m\u001b[32m───────────────────────────────────────────────────────────────────────────────────\u001b[0m\u001b[32m \u001b[0m\u001b[3;32m 7:22:23 PM\u001b[0m\u001b[32m \u001b[0m\u001b[32m─╯\u001b[0m\n",
       "\u001b[34m╭─\u001b[0m\u001b[34m \u001b[0m\u001b[1;34mAssistant\u001b[0m\u001b[34m \u001b[0m\u001b[34m─────────────────────────────────────────────────────────────────────────────────────\u001b[0m\u001b[34m─╮\u001b[0m\n",
       "\u001b[34m│\u001b[0m                                                                                                  \u001b[34m│\u001b[0m\n",
       "\u001b[34m│\u001b[0m  Hello! How can I assist you today?                                                              \u001b[34m│\u001b[0m\n",
       "\u001b[34m│\u001b[0m                                                                                                  \u001b[34m│\u001b[0m\n",
       "\u001b[34m╰─\u001b[0m\u001b[34m───────────────────────────────────────────────────────────────────────────────────\u001b[0m\u001b[34m \u001b[0m\u001b[3;34m 7:22:25 PM\u001b[0m\u001b[34m \u001b[0m\u001b[34m─╯\u001b[0m\n"
      ]
     },
     "metadata": {},
     "output_type": "display_data"
    },
    {
     "data": {
      "text/html": [
       "<pre style=\"white-space:pre;overflow-x:auto;line-height:normal;font-family:Menlo,'DejaVu Sans Mono',consolas,'Courier New',monospace\"></pre>\n"
      ],
      "text/plain": []
     },
     "metadata": {},
     "output_type": "display_data"
    },
    {
     "data": {
      "text/plain": [
       "Run(thread=Thread(id='thread_SK2eVRqrTXJ7suDY6M9bcz3I', metadata={}), assistant=Assistant(name='HCAI IST 597 Assistant', id=None, description=None, instructions=None, model='gpt-4o-mini', tools=[], tool_resources={}, metadata={}, response_format='auto'), event_handler_class=<class 'marvin.beta.assistants.handlers.PrintHandler'>, event_handler_kwargs={}, model=None, instructions=None, additional_instructions=None, tools=None, additional_tools=None, tool_choice=None, data=None)"
      ]
     },
     "execution_count": 137,
     "metadata": {},
     "output_type": "execute_result"
    }
   ],
   "source": [
    "ai.say(\"hi\")"
   ]
  },
  {
   "cell_type": "code",
   "execution_count": 138,
   "id": "b48bf674-3fd9-4820-968f-ab5bae32b407",
   "metadata": {},
   "outputs": [
    {
     "data": {
      "text/html": [
       "<pre style=\"white-space:pre;overflow-x:auto;line-height:normal;font-family:Menlo,'DejaVu Sans Mono',consolas,'Courier New',monospace\"><span style=\"color: #008000; text-decoration-color: #008000\">╭─ </span><span style=\"color: #008000; text-decoration-color: #008000; font-weight: bold\">User</span><span style=\"color: #008000; text-decoration-color: #008000\"> ───────────────────────────────────────────────────────────────────────────────────────────╮</span>\n",
       "<span style=\"color: #008000; text-decoration-color: #008000\">│</span>                                                                                                  <span style=\"color: #008000; text-decoration-color: #008000\">│</span>\n",
       "<span style=\"color: #008000; text-decoration-color: #008000\">│</span>  bye                                                                                             <span style=\"color: #008000; text-decoration-color: #008000\">│</span>\n",
       "<span style=\"color: #008000; text-decoration-color: #008000\">│</span>                                                                                                  <span style=\"color: #008000; text-decoration-color: #008000\">│</span>\n",
       "<span style=\"color: #008000; text-decoration-color: #008000\">╰──────────────────────────────────────────────────────────────────────────────────── </span><span style=\"color: #008000; text-decoration-color: #008000; font-style: italic\"> 7:22:33 PM</span><span style=\"color: #008000; text-decoration-color: #008000\"> ─╯</span>\n",
       "<span style=\"color: #000080; text-decoration-color: #000080\">╭─ </span><span style=\"color: #000080; text-decoration-color: #000080; font-weight: bold\">Assistant</span><span style=\"color: #000080; text-decoration-color: #000080\"> ──────────────────────────────────────────────────────────────────────────────────────╮</span>\n",
       "<span style=\"color: #000080; text-decoration-color: #000080\">│</span>                                                                                                  <span style=\"color: #000080; text-decoration-color: #000080\">│</span>\n",
       "<span style=\"color: #000080; text-decoration-color: #000080\">│</span>  Goodbye! If you need anything in the future, feel free to reach out. Have                       <span style=\"color: #000080; text-decoration-color: #000080\">│</span>\n",
       "<span style=\"color: #000080; text-decoration-color: #000080\">│</span>                                                                                                  <span style=\"color: #000080; text-decoration-color: #000080\">│</span>\n",
       "<span style=\"color: #000080; text-decoration-color: #000080\">╰──────────────────────────────────────────────────────────────────────────────────── </span><span style=\"color: #000080; text-decoration-color: #000080; font-style: italic\"> 7:22:36 PM</span><span style=\"color: #000080; text-decoration-color: #000080\"> ─╯</span>\n",
       "</pre>\n"
      ],
      "text/plain": [
       "\u001b[32m╭─\u001b[0m\u001b[32m \u001b[0m\u001b[1;32mUser\u001b[0m\u001b[32m \u001b[0m\u001b[32m──────────────────────────────────────────────────────────────────────────────────────────\u001b[0m\u001b[32m─╮\u001b[0m\n",
       "\u001b[32m│\u001b[0m                                                                                                  \u001b[32m│\u001b[0m\n",
       "\u001b[32m│\u001b[0m  bye                                                                                             \u001b[32m│\u001b[0m\n",
       "\u001b[32m│\u001b[0m                                                                                                  \u001b[32m│\u001b[0m\n",
       "\u001b[32m╰─\u001b[0m\u001b[32m───────────────────────────────────────────────────────────────────────────────────\u001b[0m\u001b[32m \u001b[0m\u001b[3;32m 7:22:33 PM\u001b[0m\u001b[32m \u001b[0m\u001b[32m─╯\u001b[0m\n",
       "\u001b[34m╭─\u001b[0m\u001b[34m \u001b[0m\u001b[1;34mAssistant\u001b[0m\u001b[34m \u001b[0m\u001b[34m─────────────────────────────────────────────────────────────────────────────────────\u001b[0m\u001b[34m─╮\u001b[0m\n",
       "\u001b[34m│\u001b[0m                                                                                                  \u001b[34m│\u001b[0m\n",
       "\u001b[34m│\u001b[0m  Goodbye! If you need anything in the future, feel free to reach out. Have                       \u001b[34m│\u001b[0m\n",
       "\u001b[34m│\u001b[0m                                                                                                  \u001b[34m│\u001b[0m\n",
       "\u001b[34m╰─\u001b[0m\u001b[34m───────────────────────────────────────────────────────────────────────────────────\u001b[0m\u001b[34m \u001b[0m\u001b[3;34m 7:22:36 PM\u001b[0m\u001b[34m \u001b[0m\u001b[34m─╯\u001b[0m\n"
      ]
     },
     "metadata": {},
     "output_type": "display_data"
    },
    {
     "data": {
      "text/html": [
       "<pre style=\"white-space:pre;overflow-x:auto;line-height:normal;font-family:Menlo,'DejaVu Sans Mono',consolas,'Courier New',monospace\"></pre>\n"
      ],
      "text/plain": []
     },
     "metadata": {},
     "output_type": "display_data"
    },
    {
     "data": {
      "text/plain": [
       "Run(thread=Thread(id='thread_SK2eVRqrTXJ7suDY6M9bcz3I', metadata={}), assistant=Assistant(name='HCAI IST 597 Assistant', id=None, description=None, instructions=None, model='gpt-4o-mini', tools=[], tool_resources={}, metadata={}, response_format='auto'), event_handler_class=<class 'marvin.beta.assistants.handlers.PrintHandler'>, event_handler_kwargs={}, model=None, instructions=None, additional_instructions=None, tools=None, additional_tools=None, tool_choice=None, data=None)"
      ]
     },
     "execution_count": 138,
     "metadata": {},
     "output_type": "execute_result"
    }
   ],
   "source": [
    "ai.say(\"bye\")"
   ]
  },
  {
   "cell_type": "markdown",
   "id": "b3b37580-88f8-4130-8823-ad00d86177d6",
   "metadata": {},
   "source": [
    "# We can add _instructions_\n",
    "Similar to _developer_ or _system_ role."
   ]
  },
  {
   "cell_type": "code",
   "execution_count": 178,
   "id": "cd1e6b52-118b-43c3-bba1-b3d658717429",
   "metadata": {},
   "outputs": [],
   "source": [
    "ai = Assistant(\n",
    "    name=\"HCAI IST 597 Assistant\",\n",
    "    model=\"gpt-4o-mini\",\n",
    "    instructions=\"Mention Penn State University twice in each response.\",\n",
    ")"
   ]
  },
  {
   "cell_type": "code",
   "execution_count": 179,
   "id": "af19a547-8d41-4096-9c0d-e4276ed93183",
   "metadata": {},
   "outputs": [
    {
     "data": {
      "text/html": [
       "<pre style=\"white-space:pre;overflow-x:auto;line-height:normal;font-family:Menlo,'DejaVu Sans Mono',consolas,'Courier New',monospace\"><span style=\"color: #008000; text-decoration-color: #008000\">╭─ </span><span style=\"color: #008000; text-decoration-color: #008000; font-weight: bold\">User</span><span style=\"color: #008000; text-decoration-color: #008000\"> ───────────────────────────────────────────────────────────────────────────────────────────╮</span>\n",
       "<span style=\"color: #008000; text-decoration-color: #008000\">│</span>                                                                                                  <span style=\"color: #008000; text-decoration-color: #008000\">│</span>\n",
       "<span style=\"color: #008000; text-decoration-color: #008000\">│</span>  Hello                                                                                           <span style=\"color: #008000; text-decoration-color: #008000\">│</span>\n",
       "<span style=\"color: #008000; text-decoration-color: #008000\">│</span>                                                                                                  <span style=\"color: #008000; text-decoration-color: #008000\">│</span>\n",
       "<span style=\"color: #008000; text-decoration-color: #008000\">╰──────────────────────────────────────────────────────────────────────────────────── </span><span style=\"color: #008000; text-decoration-color: #008000; font-style: italic\"> 8:09:11 PM</span><span style=\"color: #008000; text-decoration-color: #008000\"> ─╯</span>\n",
       "<span style=\"color: #000080; text-decoration-color: #000080\">╭─ </span><span style=\"color: #000080; text-decoration-color: #000080; font-weight: bold\">Assistant</span><span style=\"color: #000080; text-decoration-color: #000080\"> ──────────────────────────────────────────────────────────────────────────────────────╮</span>\n",
       "<span style=\"color: #000080; text-decoration-color: #000080\">│</span>                                                                                                  <span style=\"color: #000080; text-decoration-color: #000080\">│</span>\n",
       "<span style=\"color: #000080; text-decoration-color: #000080\">│</span>  Hello! How can I assist you today? If you're curious about anything related to Penn State       <span style=\"color: #000080; text-decoration-color: #000080\">│</span>\n",
       "<span style=\"color: #000080; text-decoration-color: #000080\">│</span>  University, feel free to ask! Penn State University has a lot to offer in terms of academics    <span style=\"color: #000080; text-decoration-color: #000080\">│</span>\n",
       "<span style=\"color: #000080; text-decoration-color: #000080\">│</span>  and campus life.                                                                                <span style=\"color: #000080; text-decoration-color: #000080\">│</span>\n",
       "<span style=\"color: #000080; text-decoration-color: #000080\">│</span>                                                                                                  <span style=\"color: #000080; text-decoration-color: #000080\">│</span>\n",
       "<span style=\"color: #000080; text-decoration-color: #000080\">╰──────────────────────────────────────────────────────────────────────────────────── </span><span style=\"color: #000080; text-decoration-color: #000080; font-style: italic\"> 8:09:16 PM</span><span style=\"color: #000080; text-decoration-color: #000080\"> ─╯</span>\n",
       "</pre>\n"
      ],
      "text/plain": [
       "\u001b[32m╭─\u001b[0m\u001b[32m \u001b[0m\u001b[1;32mUser\u001b[0m\u001b[32m \u001b[0m\u001b[32m──────────────────────────────────────────────────────────────────────────────────────────\u001b[0m\u001b[32m─╮\u001b[0m\n",
       "\u001b[32m│\u001b[0m                                                                                                  \u001b[32m│\u001b[0m\n",
       "\u001b[32m│\u001b[0m  Hello                                                                                           \u001b[32m│\u001b[0m\n",
       "\u001b[32m│\u001b[0m                                                                                                  \u001b[32m│\u001b[0m\n",
       "\u001b[32m╰─\u001b[0m\u001b[32m───────────────────────────────────────────────────────────────────────────────────\u001b[0m\u001b[32m \u001b[0m\u001b[3;32m 8:09:11 PM\u001b[0m\u001b[32m \u001b[0m\u001b[32m─╯\u001b[0m\n",
       "\u001b[34m╭─\u001b[0m\u001b[34m \u001b[0m\u001b[1;34mAssistant\u001b[0m\u001b[34m \u001b[0m\u001b[34m─────────────────────────────────────────────────────────────────────────────────────\u001b[0m\u001b[34m─╮\u001b[0m\n",
       "\u001b[34m│\u001b[0m                                                                                                  \u001b[34m│\u001b[0m\n",
       "\u001b[34m│\u001b[0m  Hello! How can I assist you today? If you're curious about anything related to Penn State       \u001b[34m│\u001b[0m\n",
       "\u001b[34m│\u001b[0m  University, feel free to ask! Penn State University has a lot to offer in terms of academics    \u001b[34m│\u001b[0m\n",
       "\u001b[34m│\u001b[0m  and campus life.                                                                                \u001b[34m│\u001b[0m\n",
       "\u001b[34m│\u001b[0m                                                                                                  \u001b[34m│\u001b[0m\n",
       "\u001b[34m╰─\u001b[0m\u001b[34m───────────────────────────────────────────────────────────────────────────────────\u001b[0m\u001b[34m \u001b[0m\u001b[3;34m 8:09:16 PM\u001b[0m\u001b[34m \u001b[0m\u001b[34m─╯\u001b[0m\n"
      ]
     },
     "metadata": {},
     "output_type": "display_data"
    },
    {
     "data": {
      "text/html": [
       "<pre style=\"white-space:pre;overflow-x:auto;line-height:normal;font-family:Menlo,'DejaVu Sans Mono',consolas,'Courier New',monospace\"></pre>\n"
      ],
      "text/plain": []
     },
     "metadata": {},
     "output_type": "display_data"
    },
    {
     "data": {
      "text/plain": [
       "Run(thread=Thread(id='thread_ChII8ZVYEIZJSoRWh6jraVLj', metadata={}), assistant=Assistant(name='HCAI IST 597 Assistant', id=None, description=None, instructions='Mention Penn State University twice in each response.', model='gpt-4o-mini', tools=[], tool_resources={}, metadata={}, response_format='auto'), event_handler_class=<class 'marvin.beta.assistants.handlers.PrintHandler'>, event_handler_kwargs={}, model=None, instructions=None, additional_instructions=None, tools=None, additional_tools=None, tool_choice=None, data=None)"
      ]
     },
     "execution_count": 179,
     "metadata": {},
     "output_type": "execute_result"
    }
   ],
   "source": [
    "ai.say(\"Hello\")"
   ]
  },
  {
   "cell_type": "markdown",
   "id": "12db31b7-0e46-424a-ad56-c533ef21f5ca",
   "metadata": {},
   "source": [
    "# Integrate external knowledge with Assistants\n",
    "\n",
    "Integrate the markdown table with Assistant _instructions_"
   ]
  },
  {
   "cell_type": "code",
   "execution_count": 125,
   "id": "5c235bdd-13e4-4700-bdc4-81f303c60e99",
   "metadata": {},
   "outputs": [],
   "source": [
    "table = \"\"\"\n",
    "  UP Colleges                              FY26 Budget   FY27 Budget   FY27 Reduction   FY27 Change\n",
    "  -------------------------------------- ------------- ------------- ---------------- -------------\n",
    "  Agriculture Sciences (General Funds)      32,230,886    32,762,270          531,384         1.65%\n",
    "  Arts & Architecture                       42,370,572    42,785,632          415,060         0.98%\n",
    "  Business, Smeal                           88,192,376    94,641,413        6,449,037         7.31%\n",
    "  Communications, Bellisario                22,147,211    25,462,815        3,315,604        14.97%\n",
    "  Earth & Mineral Sciences                  51,423,487    51,643,168          219,680         0.43%\n",
    "  Education                                 37,565,599    36,229,442      (1,336,157)        -3.56%\n",
    "  Engineering                              128,971,069   129,244,355          273,286         0.21%\n",
    "  Health & Human Development                67,487,969    72,077,693        4,589,724         6.80%\n",
    "  Information Sciences & Technology         32,587,758    36,627,971        4,040,213        12.40%\n",
    "  International Affairs                      2,464,550     2,054,674        (409,876)       -16.63%\n",
    "  Liberal Arts                             164,960,545   170,149,349        5,188,805         3.15%\n",
    "  Nursing, Nese                             17,071,041    16,710,190        (360,850)        -2.11%\n",
    "  Penn State Dickinson Law                  19,023,564    16,725,000      (2,298,564)       -12.08%\n",
    "  Science, Eberly                          128,190,811   134,408,900        6,218,089         4.85%\n",
    "\"\"\""
   ]
  },
  {
   "cell_type": "code",
   "execution_count": 181,
   "id": "3a42ca89-6e56-433e-807f-00e186bdf00d",
   "metadata": {},
   "outputs": [],
   "source": [
    "ai = Assistant(\n",
    "    name=\"HCAI IST 597 Assistant\",\n",
    "    model=\"gpt-4o-mini\",\n",
    "    instructions=f\"\"\"You are a world-class expert. \n",
    "    You will use the following markdown tables delimited by <table> tag to answer user query.\n",
    "    <table>\n",
    "    {table}\n",
    "    </table>\n",
    "    \"\"\",\n",
    ")"
   ]
  },
  {
   "cell_type": "code",
   "execution_count": 182,
   "id": "51a05b94-098e-4dc8-a02b-844626b09e0d",
   "metadata": {},
   "outputs": [
    {
     "data": {
      "text/html": [
       "<pre style=\"white-space:pre;overflow-x:auto;line-height:normal;font-family:Menlo,'DejaVu Sans Mono',consolas,'Courier New',monospace\"><span style=\"color: #008000; text-decoration-color: #008000\">╭─ </span><span style=\"color: #008000; text-decoration-color: #008000; font-weight: bold\">User</span><span style=\"color: #008000; text-decoration-color: #008000\"> ───────────────────────────────────────────────────────────────────────────────────────────╮</span>\n",
       "<span style=\"color: #008000; text-decoration-color: #008000\">│</span>                                                                                                  <span style=\"color: #008000; text-decoration-color: #008000\">│</span>\n",
       "<span style=\"color: #008000; text-decoration-color: #008000\">│</span>  How much money is allocated for Information Sciences &amp; Technology in FY27?                      <span style=\"color: #008000; text-decoration-color: #008000\">│</span>\n",
       "<span style=\"color: #008000; text-decoration-color: #008000\">│</span>                                                                                                  <span style=\"color: #008000; text-decoration-color: #008000\">│</span>\n",
       "<span style=\"color: #008000; text-decoration-color: #008000\">╰──────────────────────────────────────────────────────────────────────────────────── </span><span style=\"color: #008000; text-decoration-color: #008000; font-style: italic\"> 8:10:09 PM</span><span style=\"color: #008000; text-decoration-color: #008000\"> ─╯</span>\n",
       "<span style=\"color: #000080; text-decoration-color: #000080\">╭─ </span><span style=\"color: #000080; text-decoration-color: #000080; font-weight: bold\">Assistant</span><span style=\"color: #000080; text-decoration-color: #000080\"> ──────────────────────────────────────────────────────────────────────────────────────╮</span>\n",
       "<span style=\"color: #000080; text-decoration-color: #000080\">│</span>                                                                                                  <span style=\"color: #000080; text-decoration-color: #000080\">│</span>\n",
       "<span style=\"color: #000080; text-decoration-color: #000080\">│</span>  The allocated budget for Information Sciences &amp; Technology in FY27 is $36,627,971.              <span style=\"color: #000080; text-decoration-color: #000080\">│</span>\n",
       "<span style=\"color: #000080; text-decoration-color: #000080\">│</span>                                                                                                  <span style=\"color: #000080; text-decoration-color: #000080\">│</span>\n",
       "<span style=\"color: #000080; text-decoration-color: #000080\">╰──────────────────────────────────────────────────────────────────────────────────── </span><span style=\"color: #000080; text-decoration-color: #000080; font-style: italic\"> 8:10:13 PM</span><span style=\"color: #000080; text-decoration-color: #000080\"> ─╯</span>\n",
       "</pre>\n"
      ],
      "text/plain": [
       "\u001b[32m╭─\u001b[0m\u001b[32m \u001b[0m\u001b[1;32mUser\u001b[0m\u001b[32m \u001b[0m\u001b[32m──────────────────────────────────────────────────────────────────────────────────────────\u001b[0m\u001b[32m─╮\u001b[0m\n",
       "\u001b[32m│\u001b[0m                                                                                                  \u001b[32m│\u001b[0m\n",
       "\u001b[32m│\u001b[0m  How much money is allocated for Information Sciences & Technology in FY27?                      \u001b[32m│\u001b[0m\n",
       "\u001b[32m│\u001b[0m                                                                                                  \u001b[32m│\u001b[0m\n",
       "\u001b[32m╰─\u001b[0m\u001b[32m───────────────────────────────────────────────────────────────────────────────────\u001b[0m\u001b[32m \u001b[0m\u001b[3;32m 8:10:09 PM\u001b[0m\u001b[32m \u001b[0m\u001b[32m─╯\u001b[0m\n",
       "\u001b[34m╭─\u001b[0m\u001b[34m \u001b[0m\u001b[1;34mAssistant\u001b[0m\u001b[34m \u001b[0m\u001b[34m─────────────────────────────────────────────────────────────────────────────────────\u001b[0m\u001b[34m─╮\u001b[0m\n",
       "\u001b[34m│\u001b[0m                                                                                                  \u001b[34m│\u001b[0m\n",
       "\u001b[34m│\u001b[0m  The allocated budget for Information Sciences & Technology in FY27 is $36,627,971.              \u001b[34m│\u001b[0m\n",
       "\u001b[34m│\u001b[0m                                                                                                  \u001b[34m│\u001b[0m\n",
       "\u001b[34m╰─\u001b[0m\u001b[34m───────────────────────────────────────────────────────────────────────────────────\u001b[0m\u001b[34m \u001b[0m\u001b[3;34m 8:10:13 PM\u001b[0m\u001b[34m \u001b[0m\u001b[34m─╯\u001b[0m\n"
      ]
     },
     "metadata": {},
     "output_type": "display_data"
    },
    {
     "data": {
      "text/html": [
       "<pre style=\"white-space:pre;overflow-x:auto;line-height:normal;font-family:Menlo,'DejaVu Sans Mono',consolas,'Courier New',monospace\"></pre>\n"
      ],
      "text/plain": []
     },
     "metadata": {},
     "output_type": "display_data"
    },
    {
     "data": {
      "text/plain": [
       "Run(thread=Thread(id='thread_ouC06Aamhmn0BC1d9GOtC3CO', metadata={}), assistant=Assistant(name='HCAI IST 597 Assistant', id=None, description=None, instructions='You are a world-class expert. \\n    You will use the following markdown tables delimited by <table> tag to answer user query.\\n    <table>\\n    \\n  UP Colleges                              FY26\\xa0Budget   FY27\\xa0Budget   FY27\\xa0Reduction   FY27\\xa0Change\\n  -------------------------------------- ------------- ------------- ---------------- -------------\\n  Agriculture Sciences (General Funds)      32,230,886    32,762,270          531,384         1.65%\\n  Arts & Architecture                       42,370,572    42,785,632          415,060         0.98%\\n  Business, Smeal                           88,192,376    94,641,413        6,449,037         7.31%\\n  Communications, Bellisario                22,147,211    25,462,815        3,315,604        14.97%\\n  Earth & Mineral Sciences                  51,423,487    51,643,168          219,680         0.43%\\n  Education                                 37,565,599    36,229,442      (1,336,157)        -3.56%\\n  Engineering                              128,971,069   129,244,355          273,286         0.21%\\n  Health & Human Development                67,487,969    72,077,693        4,589,724         6.80%\\n  Information Sciences & Technology         32,587,758    36,627,971        4,040,213        12.40%\\n  International Affairs                      2,464,550     2,054,674        (409,876)       -16.63%\\n  Liberal Arts                             164,960,545   170,149,349        5,188,805         3.15%\\n  Nursing, Nese                             17,071,041    16,710,190        (360,850)        -2.11%\\n  Penn State Dickinson Law                  19,023,564    16,725,000      (2,298,564)       -12.08%\\n  Science, Eberly                          128,190,811   134,408,900        6,218,089         4.85%\\n\\n    </table>\\n    ', model='gpt-4o-mini', tools=[], tool_resources={}, metadata={}, response_format='auto'), event_handler_class=<class 'marvin.beta.assistants.handlers.PrintHandler'>, event_handler_kwargs={}, model=None, instructions=None, additional_instructions=None, tools=None, additional_tools=None, tool_choice=None, data=None)"
      ]
     },
     "execution_count": 182,
     "metadata": {},
     "output_type": "execute_result"
    }
   ],
   "source": [
    "ai.say(\"How much money is allocated for Information Sciences & Technology in FY27?\")"
   ]
  },
  {
   "cell_type": "markdown",
   "id": "a5c28537-99ea-47b3-9406-40e2c8a37650",
   "metadata": {},
   "source": [
    "# ToDo: Which UP colleges have the highest positive and negative percentage changes?"
   ]
  },
  {
   "cell_type": "markdown",
   "id": "eb6c4c1c-d507-4c5e-8913-198e313a12bb",
   "metadata": {},
   "source": [
    "# Todo: Analyze the allocation for other units"
   ]
  },
  {
   "cell_type": "markdown",
   "id": "86bab90d-6a1b-4161-9106-84fb65ebd9a9",
   "metadata": {},
   "source": [
    "# ToDo: What happens if you ask it to generate a visualization?"
   ]
  },
  {
   "cell_type": "markdown",
   "id": "b08e0a86-b403-4ce8-9a97-e90e4c468eb1",
   "metadata": {},
   "source": []
  },
  {
   "cell_type": "markdown",
   "id": "8767918b-394f-4403-9877-313cc698b903",
   "metadata": {},
   "source": [
    "# Using data from pdf\n",
    "\n",
    "I'd like to use data from [Right To Know Law Reports from Penn State](https://budgetandfinance.psu.edu/public-reports#:~:text=Right%20To%20Know%20Law%20Report).\n",
    "\n",
    "We will use the [file search tool](https://platform.openai.com/docs/assistants/tools/file-search). There are three steps:\n",
    "\n",
    "* Create an Assistant\n",
    "    + With name, model, and instructions\n",
    "    + Indicate that we will be using `FileSearch`\n",
    "* Create a thread\n",
    "    + Note that you can reuse threads (great for continued conversations with users)\n",
    "* Attach necessary files"
   ]
  },
  {
   "cell_type": "code",
   "execution_count": 231,
   "id": "4a5eb10d-b177-4097-b65e-67acf73466ff",
   "metadata": {},
   "outputs": [],
   "source": [
    "ai = Assistant(\n",
    "    name=\"HCAI IST 597 Assistant\",\n",
    "    model=\"gpt-4o-mini\",\n",
    "    instructions=f\"\"\"You are a world-class expert.\n",
    "        You will only use the provided files to answer user queries.\n",
    "        If you are unable to find the answer in the given files, say 'The files do not contain relevant information.'\n",
    "        \"\"\",\n",
    "    tools=[FileSearch],\n",
    ")"
   ]
  },
  {
   "cell_type": "code",
   "execution_count": 232,
   "id": "c3d304d6-fac5-40c9-a79d-dc0dad112646",
   "metadata": {},
   "outputs": [],
   "source": [
    "# let's create a thread\n",
    "thread = Thread()"
   ]
  },
  {
   "cell_type": "code",
   "execution_count": 233,
   "id": "56317d5e-e132-4dd0-ae6a-536ee27ef4d2",
   "metadata": {},
   "outputs": [
    {
     "data": {
      "text/plain": [
       "Message(id='msg_yTwLFBNA5aJbu3B0cwXYOpPH', assistant_id=None, attachments=[Attachment(file_id='file-VMo2afuVBLVFQTzHQXuqjz', tools=[AttachmentToolAssistantToolsFileSearchTypeOnly(type='file_search')])], completed_at=None, content=[TextContentBlock(text=Text(annotations=[], value='How much did James Franklin earn?'), type='text')], created_at=1739410784, incomplete_at=None, incomplete_details=None, metadata={}, object='thread.message', role='user', run_id=None, status=None, thread_id='thread_tw8bvOo3hLQqJTVVdl8A3vvb')"
      ]
     },
     "execution_count": 233,
     "metadata": {},
     "output_type": "execute_result"
    }
   ],
   "source": [
    "# we are going to attach a file to the thread\n",
    "thread.add(\n",
    "    \"How much did James Franklin earn?\",\n",
    "    file_search_files=[\"data/data-activity-03/2023-psu-right-to-know-form-990.pdf\"],\n",
    ")"
   ]
  },
  {
   "cell_type": "code",
   "execution_count": 234,
   "id": "fef57a36-3101-4f25-9f84-f25e8cd0ff77",
   "metadata": {},
   "outputs": [
    {
     "data": {
      "text/plain": [
       "Run(thread=Thread(id='thread_tw8bvOo3hLQqJTVVdl8A3vvb', metadata={}), assistant=Assistant(name='HCAI IST 597 Assistant', id=None, description=None, instructions=\"You are a world-class expert.\\n        You will only use the provided files to answer user queries.\\n        If you are unable to find the answer in the given files, say 'The files do not contain relevant information.'\\n        \", model='gpt-4o-mini', tools=[FileSearchTool(type='file_search')], tool_resources={}, metadata={}, response_format='auto'), event_handler_class=None, event_handler_kwargs={}, model=None, instructions=None, additional_instructions=None, tools=None, additional_tools=None, tool_choice=None, data=None)"
      ]
     },
     "execution_count": 234,
     "metadata": {},
     "output_type": "execute_result"
    }
   ],
   "source": [
    "thread.run(assistant=ai)"
   ]
  },
  {
   "cell_type": "code",
   "execution_count": 235,
   "id": "4c1e6167-afb8-4297-9fd7-1e9f16f5dc2f",
   "metadata": {},
   "outputs": [
    {
     "data": {
      "text/html": [
       "<pre style=\"white-space:pre;overflow-x:auto;line-height:normal;font-family:Menlo,'DejaVu Sans Mono',consolas,'Courier New',monospace\"><span style=\"color: #008000; text-decoration-color: #008000\">╭─ </span><span style=\"color: #008000; text-decoration-color: #008000; font-weight: bold\">User</span><span style=\"color: #008000; text-decoration-color: #008000\"> ───────────────────────────────────────────────────────────────────────────────────────────╮</span>\n",
       "<span style=\"color: #008000; text-decoration-color: #008000\">│</span>                                                                                                  <span style=\"color: #008000; text-decoration-color: #008000\">│</span>\n",
       "<span style=\"color: #008000; text-decoration-color: #008000\">│</span>  How much did James Franklin earn?                                                               <span style=\"color: #008000; text-decoration-color: #008000\">│</span>\n",
       "<span style=\"color: #008000; text-decoration-color: #008000\">│</span>                                                                                                  <span style=\"color: #008000; text-decoration-color: #008000\">│</span>\n",
       "<span style=\"color: #008000; text-decoration-color: #008000\">╰──────────────────────────────────────────────────────────────────────────────────── </span><span style=\"color: #008000; text-decoration-color: #008000; font-style: italic\"> 8:39:44 PM</span><span style=\"color: #008000; text-decoration-color: #008000\"> ─╯</span>\n",
       "</pre>\n"
      ],
      "text/plain": [
       "\u001b[32m╭─\u001b[0m\u001b[32m \u001b[0m\u001b[1;32mUser\u001b[0m\u001b[32m \u001b[0m\u001b[32m──────────────────────────────────────────────────────────────────────────────────────────\u001b[0m\u001b[32m─╮\u001b[0m\n",
       "\u001b[32m│\u001b[0m                                                                                                  \u001b[32m│\u001b[0m\n",
       "\u001b[32m│\u001b[0m  How much did James Franklin earn?                                                               \u001b[32m│\u001b[0m\n",
       "\u001b[32m│\u001b[0m                                                                                                  \u001b[32m│\u001b[0m\n",
       "\u001b[32m╰─\u001b[0m\u001b[32m───────────────────────────────────────────────────────────────────────────────────\u001b[0m\u001b[32m \u001b[0m\u001b[3;32m 8:39:44 PM\u001b[0m\u001b[32m \u001b[0m\u001b[32m─╯\u001b[0m\n"
      ]
     },
     "metadata": {},
     "output_type": "display_data"
    },
    {
     "data": {
      "text/html": [
       "<pre style=\"white-space:pre;overflow-x:auto;line-height:normal;font-family:Menlo,'DejaVu Sans Mono',consolas,'Courier New',monospace\"><span style=\"color: #000080; text-decoration-color: #000080\">╭─ </span><span style=\"color: #000080; text-decoration-color: #000080; font-weight: bold\">Assistant</span><span style=\"color: #000080; text-decoration-color: #000080\"> ──────────────────────────────────────────────────────────────────────────────────────╮</span>\n",
       "<span style=\"color: #000080; text-decoration-color: #000080\">│</span>                                                                                                  <span style=\"color: #000080; text-decoration-color: #000080\">│</span>\n",
       "<span style=\"color: #000080; text-decoration-color: #000080\">│</span>  James Franklin, the head football coach, earned a total of $8,455,055 in reportable             <span style=\"color: #000080; text-decoration-color: #000080\">│</span>\n",
       "<span style=\"color: #000080; text-decoration-color: #000080\">│</span>  compensation from the organization in 2022. Additionally, he received an estimated amount of    <span style=\"color: #000080; text-decoration-color: #000080\">│</span>\n",
       "<span style=\"color: #000080; text-decoration-color: #000080\">│</span>  other compensation amounting to $51,528【4:1†source】.                                          <span style=\"color: #000080; text-decoration-color: #000080\">│</span>\n",
       "<span style=\"color: #000080; text-decoration-color: #000080\">│</span>                                                                                                  <span style=\"color: #000080; text-decoration-color: #000080\">│</span>\n",
       "<span style=\"color: #000080; text-decoration-color: #000080\">╰──────────────────────────────────────────────────────────────────────────────────── </span><span style=\"color: #000080; text-decoration-color: #000080; font-style: italic\"> 8:39:50 PM</span><span style=\"color: #000080; text-decoration-color: #000080\"> ─╯</span>\n",
       "</pre>\n"
      ],
      "text/plain": [
       "\u001b[34m╭─\u001b[0m\u001b[34m \u001b[0m\u001b[1;34mAssistant\u001b[0m\u001b[34m \u001b[0m\u001b[34m─────────────────────────────────────────────────────────────────────────────────────\u001b[0m\u001b[34m─╮\u001b[0m\n",
       "\u001b[34m│\u001b[0m                                                                                                  \u001b[34m│\u001b[0m\n",
       "\u001b[34m│\u001b[0m  James Franklin, the head football coach, earned a total of $8,455,055 in reportable             \u001b[34m│\u001b[0m\n",
       "\u001b[34m│\u001b[0m  compensation from the organization in 2022. Additionally, he received an estimated amount of    \u001b[34m│\u001b[0m\n",
       "\u001b[34m│\u001b[0m  other compensation amounting to $51,528【4:1†source】.                                          \u001b[34m│\u001b[0m\n",
       "\u001b[34m│\u001b[0m                                                                                                  \u001b[34m│\u001b[0m\n",
       "\u001b[34m╰─\u001b[0m\u001b[34m───────────────────────────────────────────────────────────────────────────────────\u001b[0m\u001b[34m \u001b[0m\u001b[3;34m 8:39:50 PM\u001b[0m\u001b[34m \u001b[0m\u001b[34m─╯\u001b[0m\n"
      ]
     },
     "metadata": {},
     "output_type": "display_data"
    }
   ],
   "source": [
    "messages = thread.get_messages()\n",
    "pprint_messages(messages)"
   ]
  },
  {
   "cell_type": "code",
   "execution_count": 230,
   "id": "94a37179-3e38-4a1d-aca0-8d5a97220671",
   "metadata": {},
   "outputs": [],
   "source": [
    "# let's write a function that will handle\n",
    "# creating a thread and attaching files to it\n",
    "def search_files(assistant, query, files):\n",
    "    thread = Thread()\n",
    "    thread.add(query, file_search_files=files)\n",
    "    runs = thread.run(assistant=assistant)\n",
    "\n",
    "    messages = thread.get_messages()\n",
    "    pprint_messages(messages)\n",
    "\n",
    "    meta = {\"run\": run, \"thread\": thread}\n",
    "\n",
    "    return messages, meta"
   ]
  },
  {
   "cell_type": "code",
   "execution_count": 227,
   "id": "fa10c899-0000-4ac0-bf06-3f9709c76482",
   "metadata": {},
   "outputs": [
    {
     "data": {
      "text/html": [
       "<pre style=\"white-space:pre;overflow-x:auto;line-height:normal;font-family:Menlo,'DejaVu Sans Mono',consolas,'Courier New',monospace\"><span style=\"color: #008000; text-decoration-color: #008000\">╭─ </span><span style=\"color: #008000; text-decoration-color: #008000; font-weight: bold\">User</span><span style=\"color: #008000; text-decoration-color: #008000\"> ───────────────────────────────────────────────────────────────────────────────────────────╮</span>\n",
       "<span style=\"color: #008000; text-decoration-color: #008000\">│</span>                                                                                                  <span style=\"color: #008000; text-decoration-color: #008000\">│</span>\n",
       "<span style=\"color: #008000; text-decoration-color: #008000\">│</span>  How much did Penn State spend on advertising and promotion?                                     <span style=\"color: #008000; text-decoration-color: #008000\">│</span>\n",
       "<span style=\"color: #008000; text-decoration-color: #008000\">│</span>                                                                                                  <span style=\"color: #008000; text-decoration-color: #008000\">│</span>\n",
       "<span style=\"color: #008000; text-decoration-color: #008000\">╰──────────────────────────────────────────────────────────────────────────────────── </span><span style=\"color: #008000; text-decoration-color: #008000; font-style: italic\"> 7:37:13 PM</span><span style=\"color: #008000; text-decoration-color: #008000\"> ─╯</span>\n",
       "</pre>\n"
      ],
      "text/plain": [
       "\u001b[32m╭─\u001b[0m\u001b[32m \u001b[0m\u001b[1;32mUser\u001b[0m\u001b[32m \u001b[0m\u001b[32m──────────────────────────────────────────────────────────────────────────────────────────\u001b[0m\u001b[32m─╮\u001b[0m\n",
       "\u001b[32m│\u001b[0m                                                                                                  \u001b[32m│\u001b[0m\n",
       "\u001b[32m│\u001b[0m  How much did Penn State spend on advertising and promotion?                                     \u001b[32m│\u001b[0m\n",
       "\u001b[32m│\u001b[0m                                                                                                  \u001b[32m│\u001b[0m\n",
       "\u001b[32m╰─\u001b[0m\u001b[32m───────────────────────────────────────────────────────────────────────────────────\u001b[0m\u001b[32m \u001b[0m\u001b[3;32m 7:37:13 PM\u001b[0m\u001b[32m \u001b[0m\u001b[32m─╯\u001b[0m\n"
      ]
     },
     "metadata": {},
     "output_type": "display_data"
    },
    {
     "data": {
      "text/html": [
       "<pre style=\"white-space:pre;overflow-x:auto;line-height:normal;font-family:Menlo,'DejaVu Sans Mono',consolas,'Courier New',monospace\"><span style=\"color: #000080; text-decoration-color: #000080\">╭─ </span><span style=\"color: #000080; text-decoration-color: #000080; font-weight: bold\">Assistant</span><span style=\"color: #000080; text-decoration-color: #000080\"> ──────────────────────────────────────────────────────────────────────────────────────╮</span>\n",
       "<span style=\"color: #000080; text-decoration-color: #000080\">│</span>                                                                                                  <span style=\"color: #000080; text-decoration-color: #000080\">│</span>\n",
       "<span style=\"color: #000080; text-decoration-color: #000080\">│</span>  Penn State spent <span style=\"font-weight: bold\">$14,122,604</span> on advertising and promotion, as reported in their Form 990 for    <span style=\"color: #000080; text-decoration-color: #000080\">│</span>\n",
       "<span style=\"color: #000080; text-decoration-color: #000080\">│</span>  2022【4:0†source】.                                                                             <span style=\"color: #000080; text-decoration-color: #000080\">│</span>\n",
       "<span style=\"color: #000080; text-decoration-color: #000080\">│</span>                                                                                                  <span style=\"color: #000080; text-decoration-color: #000080\">│</span>\n",
       "<span style=\"color: #000080; text-decoration-color: #000080\">╰──────────────────────────────────────────────────────────────────────────────────── </span><span style=\"color: #000080; text-decoration-color: #000080; font-style: italic\"> 7:37:20 PM</span><span style=\"color: #000080; text-decoration-color: #000080\"> ─╯</span>\n",
       "</pre>\n"
      ],
      "text/plain": [
       "\u001b[34m╭─\u001b[0m\u001b[34m \u001b[0m\u001b[1;34mAssistant\u001b[0m\u001b[34m \u001b[0m\u001b[34m─────────────────────────────────────────────────────────────────────────────────────\u001b[0m\u001b[34m─╮\u001b[0m\n",
       "\u001b[34m│\u001b[0m                                                                                                  \u001b[34m│\u001b[0m\n",
       "\u001b[34m│\u001b[0m  Penn State spent \u001b[1m$14,122,604\u001b[0m on advertising and promotion, as reported in their Form 990 for    \u001b[34m│\u001b[0m\n",
       "\u001b[34m│\u001b[0m  2022【4:0†source】.                                                                             \u001b[34m│\u001b[0m\n",
       "\u001b[34m│\u001b[0m                                                                                                  \u001b[34m│\u001b[0m\n",
       "\u001b[34m╰─\u001b[0m\u001b[34m───────────────────────────────────────────────────────────────────────────────────\u001b[0m\u001b[34m \u001b[0m\u001b[3;34m 7:37:20 PM\u001b[0m\u001b[34m \u001b[0m\u001b[34m─╯\u001b[0m\n"
      ]
     },
     "metadata": {},
     "output_type": "display_data"
    }
   ],
   "source": [
    "ai = Assistant(\n",
    "    name=\"HCAI IST 597 Assistant\",\n",
    "    model=\"gpt-4o-mini\",\n",
    "    instructions=f\"\"\"You are a world-class expert.\n",
    "        You will only use the provided files to answer user queries.\n",
    "        If you are unable to find the answer in the given files, say 'The files do not contain relevant information.'\n",
    "        \"\"\",\n",
    "    tools=[FileSearch],\n",
    ")\n",
    "m, meta = search_files(\n",
    "    ai,\n",
    "    \"How much did Penn State spend on advertising and promotion?\",\n",
    "    [\"data/data-activity-03/2023-psu-right-to-know-form-990.pdf\"],\n",
    ")"
   ]
  },
  {
   "cell_type": "markdown",
   "id": "cf760d24-8acb-4b41-8309-98c5981baa1c",
   "metadata": {},
   "source": [
    "# ToDo: Does changing instructions result in better outcomes?\n",
    "\n",
    "What if we remove `You will only use the provided files to answer user queries` from instructions?"
   ]
  },
  {
   "cell_type": "markdown",
   "id": "9075b3ec-7325-449c-bac2-96fe7f570d30",
   "metadata": {},
   "source": [
    "# Multiple files (data sources)"
   ]
  },
  {
   "cell_type": "code",
   "execution_count": 228,
   "id": "8ff7dea7-820d-44df-bd56-79f5e237b891",
   "metadata": {},
   "outputs": [
    {
     "data": {
      "text/html": [
       "<pre style=\"white-space:pre;overflow-x:auto;line-height:normal;font-family:Menlo,'DejaVu Sans Mono',consolas,'Courier New',monospace\"><span style=\"color: #008000; text-decoration-color: #008000\">╭─ </span><span style=\"color: #008000; text-decoration-color: #008000; font-weight: bold\">User</span><span style=\"color: #008000; text-decoration-color: #008000\"> ───────────────────────────────────────────────────────────────────────────────────────────╮</span>\n",
       "<span style=\"color: #008000; text-decoration-color: #008000\">│</span>                                                                                                  <span style=\"color: #008000; text-decoration-color: #008000\">│</span>\n",
       "<span style=\"color: #008000; text-decoration-color: #008000\">│</span>  How much did Penn State spend on advertising and promotion in 2018?                             <span style=\"color: #008000; text-decoration-color: #008000\">│</span>\n",
       "<span style=\"color: #008000; text-decoration-color: #008000\">│</span>                                                                                                  <span style=\"color: #008000; text-decoration-color: #008000\">│</span>\n",
       "<span style=\"color: #008000; text-decoration-color: #008000\">╰──────────────────────────────────────────────────────────────────────────────────── </span><span style=\"color: #008000; text-decoration-color: #008000; font-style: italic\"> 7:37:52 PM</span><span style=\"color: #008000; text-decoration-color: #008000\"> ─╯</span>\n",
       "</pre>\n"
      ],
      "text/plain": [
       "\u001b[32m╭─\u001b[0m\u001b[32m \u001b[0m\u001b[1;32mUser\u001b[0m\u001b[32m \u001b[0m\u001b[32m──────────────────────────────────────────────────────────────────────────────────────────\u001b[0m\u001b[32m─╮\u001b[0m\n",
       "\u001b[32m│\u001b[0m                                                                                                  \u001b[32m│\u001b[0m\n",
       "\u001b[32m│\u001b[0m  How much did Penn State spend on advertising and promotion in 2018?                             \u001b[32m│\u001b[0m\n",
       "\u001b[32m│\u001b[0m                                                                                                  \u001b[32m│\u001b[0m\n",
       "\u001b[32m╰─\u001b[0m\u001b[32m───────────────────────────────────────────────────────────────────────────────────\u001b[0m\u001b[32m \u001b[0m\u001b[3;32m 7:37:52 PM\u001b[0m\u001b[32m \u001b[0m\u001b[32m─╯\u001b[0m\n"
      ]
     },
     "metadata": {},
     "output_type": "display_data"
    },
    {
     "data": {
      "text/html": [
       "<pre style=\"white-space:pre;overflow-x:auto;line-height:normal;font-family:Menlo,'DejaVu Sans Mono',consolas,'Courier New',monospace\"><span style=\"color: #000080; text-decoration-color: #000080\">╭─ </span><span style=\"color: #000080; text-decoration-color: #000080; font-weight: bold\">Assistant</span><span style=\"color: #000080; text-decoration-color: #000080\"> ──────────────────────────────────────────────────────────────────────────────────────╮</span>\n",
       "<span style=\"color: #000080; text-decoration-color: #000080\">│</span>                                                                                                  <span style=\"color: #000080; text-decoration-color: #000080\">│</span>\n",
       "<span style=\"color: #000080; text-decoration-color: #000080\">│</span>  In 2018, Penn State spent approximately $10,630,000 on advertising and                          <span style=\"color: #000080; text-decoration-color: #000080\">│</span>\n",
       "<span style=\"color: #000080; text-decoration-color: #000080\">│</span>  promotion【10:12†source】.                                                                      <span style=\"color: #000080; text-decoration-color: #000080\">│</span>\n",
       "<span style=\"color: #000080; text-decoration-color: #000080\">│</span>                                                                                                  <span style=\"color: #000080; text-decoration-color: #000080\">│</span>\n",
       "<span style=\"color: #000080; text-decoration-color: #000080\">╰──────────────────────────────────────────────────────────────────────────────────── </span><span style=\"color: #000080; text-decoration-color: #000080; font-style: italic\"> 7:38:11 PM</span><span style=\"color: #000080; text-decoration-color: #000080\"> ─╯</span>\n",
       "</pre>\n"
      ],
      "text/plain": [
       "\u001b[34m╭─\u001b[0m\u001b[34m \u001b[0m\u001b[1;34mAssistant\u001b[0m\u001b[34m \u001b[0m\u001b[34m─────────────────────────────────────────────────────────────────────────────────────\u001b[0m\u001b[34m─╮\u001b[0m\n",
       "\u001b[34m│\u001b[0m                                                                                                  \u001b[34m│\u001b[0m\n",
       "\u001b[34m│\u001b[0m  In 2018, Penn State spent approximately $10,630,000 on advertising and                          \u001b[34m│\u001b[0m\n",
       "\u001b[34m│\u001b[0m  promotion【10:12†source】.                                                                      \u001b[34m│\u001b[0m\n",
       "\u001b[34m│\u001b[0m                                                                                                  \u001b[34m│\u001b[0m\n",
       "\u001b[34m╰─\u001b[0m\u001b[34m───────────────────────────────────────────────────────────────────────────────────\u001b[0m\u001b[34m \u001b[0m\u001b[3;34m 7:38:11 PM\u001b[0m\u001b[34m \u001b[0m\u001b[34m─╯\u001b[0m\n"
      ]
     },
     "metadata": {},
     "output_type": "display_data"
    }
   ],
   "source": [
    "messages, meta = search_files(\n",
    "    ai,\n",
    "    \"How much did Penn State spend on advertising and promotion in 2018?\",\n",
    "    files=[\n",
    "        \"data/data-activity-03/2018-psu-right-to-know-form-990.pdf\",\n",
    "        \"data/data-activity-03/2023-psu-right-to-know-form-990.pdf\",\n",
    "    ],\n",
    ")"
   ]
  },
  {
   "cell_type": "code",
   "execution_count": 214,
   "id": "76c3a122-1fe2-487a-89fe-2565c3752e7e",
   "metadata": {},
   "outputs": [
    {
     "data": {
      "text/html": [
       "<pre style=\"white-space:pre;overflow-x:auto;line-height:normal;font-family:Menlo,'DejaVu Sans Mono',consolas,'Courier New',monospace\"><span style=\"color: #008000; text-decoration-color: #008000\">╭─ </span><span style=\"color: #008000; text-decoration-color: #008000; font-weight: bold\">User</span><span style=\"color: #008000; text-decoration-color: #008000\"> ───────────────────────────────────────────────────────────────────────────────────────────╮</span>\n",
       "<span style=\"color: #008000; text-decoration-color: #008000\">│</span>                                                                                                  <span style=\"color: #008000; text-decoration-color: #008000\">│</span>\n",
       "<span style=\"color: #008000; text-decoration-color: #008000\">│</span>  How did James Franklin's compensation change from 2017 to 2022?                                 <span style=\"color: #008000; text-decoration-color: #008000\">│</span>\n",
       "<span style=\"color: #008000; text-decoration-color: #008000\">│</span>                                                                                                  <span style=\"color: #008000; text-decoration-color: #008000\">│</span>\n",
       "<span style=\"color: #008000; text-decoration-color: #008000\">╰──────────────────────────────────────────────────────────────────────────────────── </span><span style=\"color: #008000; text-decoration-color: #008000; font-style: italic\"> 8:41:53 PM</span><span style=\"color: #008000; text-decoration-color: #008000\"> ─╯</span>\n",
       "</pre>\n"
      ],
      "text/plain": [
       "\u001b[32m╭─\u001b[0m\u001b[32m \u001b[0m\u001b[1;32mUser\u001b[0m\u001b[32m \u001b[0m\u001b[32m──────────────────────────────────────────────────────────────────────────────────────────\u001b[0m\u001b[32m─╮\u001b[0m\n",
       "\u001b[32m│\u001b[0m                                                                                                  \u001b[32m│\u001b[0m\n",
       "\u001b[32m│\u001b[0m  How did James Franklin's compensation change from 2017 to 2022?                                 \u001b[32m│\u001b[0m\n",
       "\u001b[32m│\u001b[0m                                                                                                  \u001b[32m│\u001b[0m\n",
       "\u001b[32m╰─\u001b[0m\u001b[32m───────────────────────────────────────────────────────────────────────────────────\u001b[0m\u001b[32m \u001b[0m\u001b[3;32m 8:41:53 PM\u001b[0m\u001b[32m \u001b[0m\u001b[32m─╯\u001b[0m\n"
      ]
     },
     "metadata": {},
     "output_type": "display_data"
    },
    {
     "data": {
      "text/html": [
       "<pre style=\"white-space:pre;overflow-x:auto;line-height:normal;font-family:Menlo,'DejaVu Sans Mono',consolas,'Courier New',monospace\"><span style=\"color: #000080; text-decoration-color: #000080\">╭─ </span><span style=\"color: #000080; text-decoration-color: #000080; font-weight: bold\">Assistant</span><span style=\"color: #000080; text-decoration-color: #000080\"> ──────────────────────────────────────────────────────────────────────────────────────╮</span>\n",
       "<span style=\"color: #000080; text-decoration-color: #000080\">│</span>                                                                                                  <span style=\"color: #000080; text-decoration-color: #000080\">│</span>\n",
       "<span style=\"color: #000080; text-decoration-color: #000080\">│</span>  James Franklin's compensation as the head football coach at Penn State University changed       <span style=\"color: #000080; text-decoration-color: #000080\">│</span>\n",
       "<span style=\"color: #000080; text-decoration-color: #000080\">│</span>  significantly from 2017 to 2022. In 2017, his reported compensation was approximately           <span style=\"color: #000080; text-decoration-color: #000080\">│</span>\n",
       "<span style=\"color: #000080; text-decoration-color: #000080\">│</span>  $3,425,056 from the university【12:19†source】. By 2022, this amount had increased to           <span style=\"color: #000080; text-decoration-color: #000080\">│</span>\n",
       "<span style=\"color: #000080; text-decoration-color: #000080\">│</span>  approximately $8,455,055【12:0†source】.                                                        <span style=\"color: #000080; text-decoration-color: #000080\">│</span>\n",
       "<span style=\"color: #000080; text-decoration-color: #000080\">│</span>                                                                                                  <span style=\"color: #000080; text-decoration-color: #000080\">│</span>\n",
       "<span style=\"color: #000080; text-decoration-color: #000080\">│</span>  This shows that his compensation more than doubled over the five-year period.                   <span style=\"color: #000080; text-decoration-color: #000080\">│</span>\n",
       "<span style=\"color: #000080; text-decoration-color: #000080\">│</span>                                                                                                  <span style=\"color: #000080; text-decoration-color: #000080\">│</span>\n",
       "<span style=\"color: #000080; text-decoration-color: #000080\">╰──────────────────────────────────────────────────────────────────────────────────── </span><span style=\"color: #000080; text-decoration-color: #000080; font-style: italic\"> 8:42:23 PM</span><span style=\"color: #000080; text-decoration-color: #000080\"> ─╯</span>\n",
       "</pre>\n"
      ],
      "text/plain": [
       "\u001b[34m╭─\u001b[0m\u001b[34m \u001b[0m\u001b[1;34mAssistant\u001b[0m\u001b[34m \u001b[0m\u001b[34m─────────────────────────────────────────────────────────────────────────────────────\u001b[0m\u001b[34m─╮\u001b[0m\n",
       "\u001b[34m│\u001b[0m                                                                                                  \u001b[34m│\u001b[0m\n",
       "\u001b[34m│\u001b[0m  James Franklin's compensation as the head football coach at Penn State University changed       \u001b[34m│\u001b[0m\n",
       "\u001b[34m│\u001b[0m  significantly from 2017 to 2022. In 2017, his reported compensation was approximately           \u001b[34m│\u001b[0m\n",
       "\u001b[34m│\u001b[0m  $3,425,056 from the university【12:19†source】. By 2022, this amount had increased to           \u001b[34m│\u001b[0m\n",
       "\u001b[34m│\u001b[0m  approximately $8,455,055【12:0†source】.                                                        \u001b[34m│\u001b[0m\n",
       "\u001b[34m│\u001b[0m                                                                                                  \u001b[34m│\u001b[0m\n",
       "\u001b[34m│\u001b[0m  This shows that his compensation more than doubled over the five-year period.                   \u001b[34m│\u001b[0m\n",
       "\u001b[34m│\u001b[0m                                                                                                  \u001b[34m│\u001b[0m\n",
       "\u001b[34m╰─\u001b[0m\u001b[34m───────────────────────────────────────────────────────────────────────────────────\u001b[0m\u001b[34m \u001b[0m\u001b[3;34m 8:42:23 PM\u001b[0m\u001b[34m \u001b[0m\u001b[34m─╯\u001b[0m\n"
      ]
     },
     "metadata": {},
     "output_type": "display_data"
    }
   ],
   "source": [
    "messages, meta = search_files(\n",
    "    ai,\n",
    "    \"How did James Franklin's compensation change from 2017 to 2022?\",\n",
    "    files=[\n",
    "        \"data/data-activity-03/2018-psu-right-to-know-form-990.pdf\",\n",
    "        \"data/data-activity-03/2023-psu-right-to-know-form-990.pdf\",\n",
    "    ],\n",
    ")"
   ]
  },
  {
   "cell_type": "markdown",
   "id": "e767da51-23a5-4580-b9ee-fd179188614a",
   "metadata": {},
   "source": [
    "# Get citations\n",
    "\n",
    "Convert references (e.g.,`【12:0†source】`) to file names."
   ]
  },
  {
   "cell_type": "code",
   "execution_count": 229,
   "id": "64fe032c-553a-4995-a9ea-9cf57940f484",
   "metadata": {},
   "outputs": [],
   "source": [
    "# From https://platform.openai.com/docs/assistants/tools/file-search?example=without-streaming\n",
    "def get_citations(messages):\n",
    "    message_content = messages[-1].content[0].text\n",
    "    annotations = message_content.annotations\n",
    "    citations = []\n",
    "    for index, annotation in enumerate(annotations):\n",
    "        message_content.value = message_content.value.replace(\n",
    "            annotation.text, f\"[{index}]\"\n",
    "        )\n",
    "        if file_citation := getattr(annotation, \"file_citation\", None):\n",
    "            cited_file = client.files.retrieve(file_citation.file_id)\n",
    "            citations.append(f\"[{index}] {cited_file.filename}\")\n",
    "\n",
    "    print(message_content.value)\n",
    "    print(\"\\n\".join(citations))"
   ]
  },
  {
   "cell_type": "code",
   "execution_count": 220,
   "id": "fb2fb028-da1f-4695-a9e2-73eb9bc660e1",
   "metadata": {},
   "outputs": [
    {
     "data": {
      "text/html": [
       "<pre style=\"white-space:pre;overflow-x:auto;line-height:normal;font-family:Menlo,'DejaVu Sans Mono',consolas,'Courier New',monospace\"><span style=\"color: #008000; text-decoration-color: #008000\">╭─ </span><span style=\"color: #008000; text-decoration-color: #008000; font-weight: bold\">User</span><span style=\"color: #008000; text-decoration-color: #008000\"> ───────────────────────────────────────────────────────────────────────────────────────────╮</span>\n",
       "<span style=\"color: #008000; text-decoration-color: #008000\">│</span>                                                                                                  <span style=\"color: #008000; text-decoration-color: #008000\">│</span>\n",
       "<span style=\"color: #008000; text-decoration-color: #008000\">│</span>  How much did James Franklin get paid in 2018?                                                   <span style=\"color: #008000; text-decoration-color: #008000\">│</span>\n",
       "<span style=\"color: #008000; text-decoration-color: #008000\">│</span>                                                                                                  <span style=\"color: #008000; text-decoration-color: #008000\">│</span>\n",
       "<span style=\"color: #008000; text-decoration-color: #008000\">╰──────────────────────────────────────────────────────────────────────────────────── </span><span style=\"color: #008000; text-decoration-color: #008000; font-style: italic\"> 8:45:00 PM</span><span style=\"color: #008000; text-decoration-color: #008000\"> ─╯</span>\n",
       "</pre>\n"
      ],
      "text/plain": [
       "\u001b[32m╭─\u001b[0m\u001b[32m \u001b[0m\u001b[1;32mUser\u001b[0m\u001b[32m \u001b[0m\u001b[32m──────────────────────────────────────────────────────────────────────────────────────────\u001b[0m\u001b[32m─╮\u001b[0m\n",
       "\u001b[32m│\u001b[0m                                                                                                  \u001b[32m│\u001b[0m\n",
       "\u001b[32m│\u001b[0m  How much did James Franklin get paid in 2018?                                                   \u001b[32m│\u001b[0m\n",
       "\u001b[32m│\u001b[0m                                                                                                  \u001b[32m│\u001b[0m\n",
       "\u001b[32m╰─\u001b[0m\u001b[32m───────────────────────────────────────────────────────────────────────────────────\u001b[0m\u001b[32m \u001b[0m\u001b[3;32m 8:45:00 PM\u001b[0m\u001b[32m \u001b[0m\u001b[32m─╯\u001b[0m\n"
      ]
     },
     "metadata": {},
     "output_type": "display_data"
    },
    {
     "data": {
      "text/html": [
       "<pre style=\"white-space:pre;overflow-x:auto;line-height:normal;font-family:Menlo,'DejaVu Sans Mono',consolas,'Courier New',monospace\"><span style=\"color: #000080; text-decoration-color: #000080\">╭─ </span><span style=\"color: #000080; text-decoration-color: #000080; font-weight: bold\">Assistant</span><span style=\"color: #000080; text-decoration-color: #000080\"> ──────────────────────────────────────────────────────────────────────────────────────╮</span>\n",
       "<span style=\"color: #000080; text-decoration-color: #000080\">│</span>                                                                                                  <span style=\"color: #000080; text-decoration-color: #000080\">│</span>\n",
       "<span style=\"color: #000080; text-decoration-color: #000080\">│</span>  In 2018, James Franklin, the Head Football Coach at Pennsylvania State University, was          <span style=\"color: #000080; text-decoration-color: #000080\">│</span>\n",
       "<span style=\"color: #000080; text-decoration-color: #000080\">│</span>  compensated with a reportable amount of $3,425,056【4:19†source】.                              <span style=\"color: #000080; text-decoration-color: #000080\">│</span>\n",
       "<span style=\"color: #000080; text-decoration-color: #000080\">│</span>                                                                                                  <span style=\"color: #000080; text-decoration-color: #000080\">│</span>\n",
       "<span style=\"color: #000080; text-decoration-color: #000080\">╰──────────────────────────────────────────────────────────────────────────────────── </span><span style=\"color: #000080; text-decoration-color: #000080; font-style: italic\"> 8:45:06 PM</span><span style=\"color: #000080; text-decoration-color: #000080\"> ─╯</span>\n",
       "</pre>\n"
      ],
      "text/plain": [
       "\u001b[34m╭─\u001b[0m\u001b[34m \u001b[0m\u001b[1;34mAssistant\u001b[0m\u001b[34m \u001b[0m\u001b[34m─────────────────────────────────────────────────────────────────────────────────────\u001b[0m\u001b[34m─╮\u001b[0m\n",
       "\u001b[34m│\u001b[0m                                                                                                  \u001b[34m│\u001b[0m\n",
       "\u001b[34m│\u001b[0m  In 2018, James Franklin, the Head Football Coach at Pennsylvania State University, was          \u001b[34m│\u001b[0m\n",
       "\u001b[34m│\u001b[0m  compensated with a reportable amount of $3,425,056【4:19†source】.                              \u001b[34m│\u001b[0m\n",
       "\u001b[34m│\u001b[0m                                                                                                  \u001b[34m│\u001b[0m\n",
       "\u001b[34m╰─\u001b[0m\u001b[34m───────────────────────────────────────────────────────────────────────────────────\u001b[0m\u001b[34m \u001b[0m\u001b[3;34m 8:45:06 PM\u001b[0m\u001b[34m \u001b[0m\u001b[34m─╯\u001b[0m\n"
      ]
     },
     "metadata": {},
     "output_type": "display_data"
    }
   ],
   "source": [
    "messages, meta = search_files(\n",
    "    ai,\n",
    "    \"How much did James Franklin get paid in 2018?\",\n",
    "    files=[\n",
    "        \"data/data-activity-03/2018-psu-right-to-know-form-990.pdf\",\n",
    "        \"data/data-activity-03/2023-psu-right-to-know-form-990.pdf\",\n",
    "    ],\n",
    ")"
   ]
  },
  {
   "cell_type": "code",
   "execution_count": 221,
   "id": "96796d70-3ac1-4a14-b90e-c70a56587121",
   "metadata": {},
   "outputs": [
    {
     "name": "stdout",
     "output_type": "stream",
     "text": [
      "In 2018, James Franklin, the Head Football Coach at Pennsylvania State University, was compensated with a reportable amount of $3,425,056[0].\n",
      "[0] 2023-psu-right-to-know-form-990.pdf\n"
     ]
    }
   ],
   "source": [
    "get_citations(messages)"
   ]
  },
  {
   "cell_type": "markdown",
   "id": "e39db106-221f-4fa2-9b32-991da9179a77",
   "metadata": {},
   "source": [
    "# ToDo: Did Penn State spend more for Schreyer Honors College than the compensation for the football coach?\n",
    "\n",
    "Steps:\n",
    "1. Add `other-units-allocation.md` and `2023-psu-right-to-know-form-990.pdf` as sources\n",
    "2. Add query\n",
    "3. Check citations"
   ]
  }
 ],
 "metadata": {
  "kernelspec": {
   "display_name": "Python 3 (ipykernel)",
   "language": "python",
   "name": "python3"
  },
  "language_info": {
   "codemirror_mode": {
    "name": "ipython",
    "version": 3
   },
   "file_extension": ".py",
   "mimetype": "text/x-python",
   "name": "python",
   "nbconvert_exporter": "python",
   "pygments_lexer": "ipython3",
   "version": "3.13.1"
  }
 },
 "nbformat": 4,
 "nbformat_minor": 5
}
