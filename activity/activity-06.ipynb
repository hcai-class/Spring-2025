{
 "cells": [
  {
   "cell_type": "code",
   "execution_count": 1,
   "id": "6b3b6792-a5f0-4617-86be-f7a514c7501f",
   "metadata": {},
   "outputs": [],
   "source": [
    "%load_ext jupyter_black"
   ]
  },
  {
   "cell_type": "code",
   "execution_count": 5,
   "id": "5ce385fc-4658-478e-89de-0be5b7ddbab3",
   "metadata": {},
   "outputs": [],
   "source": [
    "import getpass\n",
    "import os\n",
    "import instructor\n",
    "from pydantic import BaseModel\n",
    "from openai import OpenAI\n",
    "from typing import Iterable, Literal"
   ]
  },
  {
   "cell_type": "code",
   "execution_count": 3,
   "id": "35b57122-11fb-41be-a7c4-5a742076a6df",
   "metadata": {},
   "outputs": [
    {
     "name": "stdin",
     "output_type": "stream",
     "text": [
      "Your API key: \n",
      " ········\n"
     ]
    }
   ],
   "source": [
    "_API_KEY = getpass.getpass(\"Your API key: \\n\")"
   ]
  },
  {
   "cell_type": "code",
   "execution_count": 16,
   "id": "66af9ef5-4997-4593-8f81-ad427c416d45",
   "metadata": {},
   "outputs": [],
   "source": [
    "open_ai = OpenAI(api_key=_API_KEY)\n",
    "client = instructor.from_openai(open_ai, mode=instructor.Mode.TOOLS_STRICT)"
   ]
  },
  {
   "cell_type": "code",
   "execution_count": 35,
   "id": "5cc0d30d-81ef-4572-ac6e-1e3ead659b60",
   "metadata": {},
   "outputs": [],
   "source": [
    "psu_info = \"\"\"\n",
    "As Pennsylvania's only land-grant university, Penn State has a broad mission of teaching, research, and public service. \n",
    "But that mission was not so grandly conceived in 1855, when the Commonwealth chartered it as a college of agricultural\n",
    "science to apply scientific principles to farming.\n",
    "\n",
    "Centre County became the site of the new college in response to a gift of 200 acres from gentleman farmer \n",
    "and ironmaster James Irvin of Bellefonte. Founding President Evan Pugh drew on the scientific education he\n",
    "had received in Europe to plan a curriculum that combined theoretical studies with practical applications.\n",
    "\n",
    "Pugh and similar visionaries in other states championed Congressional passage of the Morrill Land-Grant Act in 1862. \n",
    "The act enabled states to sell federal land, invest the proceeds, and use the income to support colleges \n",
    "\"where the leading object shall be, without excluding scientific and classical studies ... to teach agriculture \n",
    "and the mechanic arts [engineering] ... in order to promote the liberal and practical education of the industrial \n",
    "classes in all the pursuits and professions of life.\" The state legislature designated Penn State the land-grant institution of Pennsylvania.\n",
    "\n",
    "But not until the 1880s, under the leadership of President George W. Atherton, did the college expand \n",
    "its curriculum to match the Land-Grant Act's broad mandate. From that time onward, curriculums in engineering, \n",
    "the sciences, the liberal arts, and more began to flourish. In the early 1900s, Penn State introduced \n",
    "cooperative extension and additional outreach programming, extending the reach of its academic mission.\n",
    "\n",
    "An even greater segment of the Commonwealth's population had opportunities for engagement in the 1930s\n",
    "when Penn State established a series of undergraduate branch campuses, primarily to meet the needs of\n",
    "students who were location-bound during the Great Depression. Those campuses were predecessors of today's\n",
    "system of twenty-four Penn State campuses located throughout the Commonwealth.\n",
    "\n",
    "Penn State began offering systematic advanced-degree work in 1922 with the formation of the Graduate School \n",
    "(now the J. Jeffrey and Ann Marie Fox Graduate School). Graduate education and research evolved hand in hand. \n",
    "By 1950 the University had won international distinction for investigations in dairy science, building insulation,\n",
    "diesel engines, and acoustics, and other specialized fields.\n",
    "\n",
    "A college of medicine and teaching hospital were established in 1967 with a $50 million gift from the\n",
    "charitable trusts of renowned chocolate magnate Milton S. Hershey. In 1989, the Pennsylvania College of Technology in \n",
    "Williamsport became an affiliate of the University. In 2000, Penn State and the Dickinson School of Law merged, \n",
    "meaning the University now operates two law schools—Dickinson Law (in Carlisle, Pennsylvania) and Penn State Law (on the University Park campus). \n",
    "Penn State's online World Campus graduated its first students in 2000. \n",
    "\"\"\""
   ]
  },
  {
   "cell_type": "code",
   "execution_count": 13,
   "id": "6cb12671-0600-4a4f-919a-aeef6a0b1d86",
   "metadata": {},
   "outputs": [],
   "source": [
    "psu_info_chunked = \"\"\"\n",
    "<quote>\n",
    "<title>section-01</title>\n",
    "As Pennsylvania's only land-grant university, Penn State has a broad mission of teaching, research, and public service. \n",
    "But that mission was not so grandly conceived in 1855, when the Commonwealth chartered it as a college of agricultural\n",
    "science to apply scientific principles to farming.\n",
    "</quote>\n",
    "\n",
    "<quote>\n",
    "<title>section-02</title>\n",
    "Centre County became the site of the new college in response to a gift of 200 acres from gentleman farmer \n",
    "and ironmaster James Irvin of Bellefonte. Founding President Evan Pugh drew on the scientific education he\n",
    "had received in Europe to plan a curriculum that combined theoretical studies with practical applications.\n",
    "</quote>\n",
    "\n",
    "<quote>\n",
    "<title>section-03</title>\n",
    "Pugh and similar visionaries in other states championed Congressional passage of the Morrill Land-Grant Act in 1862. \n",
    "The act enabled states to sell federal land, invest the proceeds, and use the income to support colleges \n",
    "\"where the leading object shall be, without excluding scientific and classical studies ... to teach agriculture \n",
    "and the mechanic arts [engineering] ... in order to promote the liberal and practical education of the industrial \n",
    "classes in all the pursuits and professions of life.\" The state legislature designated Penn State the land-grant institution of Pennsylvania.\n",
    "</quote>\n",
    "\n",
    "<quote>\n",
    "<title>section-04</title>\n",
    "But not until the 1880s, under the leadership of President George W. Atherton, did the college expand \n",
    "its curriculum to match the Land-Grant Act's broad mandate. From that time onward, curriculums in engineering, \n",
    "the sciences, the liberal arts, and more began to flourish. In the early 1900s, Penn State introduced \n",
    "cooperative extension and additional outreach programming, extending the reach of its academic mission.\n",
    "</quote>\n",
    "\n",
    "<quote>\n",
    "<title>section-05</title>\n",
    "An even greater segment of the Commonwealth's population had opportunities for engagement in the 1930s\n",
    "when Penn State established a series of undergraduate branch campuses, primarily to meet the needs of\n",
    "students who were location-bound during the Great Depression. Those campuses were predecessors of today's\n",
    "system of twenty-four Penn State campuses located throughout the Commonwealth.\n",
    "</quote>\n",
    "\n",
    "<quote>\n",
    "<title>section-06</title>\n",
    "Penn State began offering systematic advanced-degree work in 1922 with the formation of the Graduate School \n",
    "(now the J. Jeffrey and Ann Marie Fox Graduate School). Graduate education and research evolved hand in hand. \n",
    "By 1950 the University had won international distinction for investigations in dairy science, building insulation,\n",
    "diesel engines, and acoustics, and other specialized fields.\n",
    "</quote>\n",
    "\n",
    "<quote>\n",
    "<title>section-07</title>\n",
    "A college of medicine and teaching hospital were established in 1967 with a $50 million gift from the\n",
    "charitable trusts of renowned chocolate magnate Milton S. Hershey. In 1989, the Pennsylvania College of Technology in \n",
    "Williamsport became an affiliate of the University. In 2000, Penn State and the Dickinson School of Law merged, \n",
    "meaning the University now operates two law schools—Dickinson Law (in Carlisle, Pennsylvania) and Penn State Law (on the University Park campus). \n",
    "Penn State's online World Campus graduated its first students in 2000.\n",
    "</quote>\n",
    "\"\"\""
   ]
  },
  {
   "cell_type": "code",
   "execution_count": 12,
   "id": "92c0d72e-a722-4beb-a418-692377408a04",
   "metadata": {},
   "outputs": [],
   "source": [
    "# from https://mattyyeung.github.io/deterministic-quoting\n",
    "system_prompt = \"\"\"You are an expert Q&A system with excellent knowledge.\n",
    "It is critical that you always accurately quote the reference information you use to answer the query.\"\"\""
   ]
  },
  {
   "cell_type": "code",
   "execution_count": 14,
   "id": "5d87b301-790e-45c5-b60a-de0269799aad",
   "metadata": {},
   "outputs": [],
   "source": [
    "# from https://mattyyeung.github.io/deterministic-quoting\n",
    "user_instruction = f\"\"\"Always answer the query using the provided reference information, and not prior knowledge.\n",
    "The reference information is provided below as a list of \"sections\". Each section is encapsulated by a <quote> tag.\n",
    "Each <quote> contains a <title> tag at the very beginning. Use this title when quoting.\n",
    "\n",
    "Some rules to follow:\n",
    "1. Always use the appropriate <quote>s to answer the question.\n",
    "2. Include a plain English summary in answer to the query, based on the text in the relevant <quote>s. There is no need to simply repeat the quoted text, however.\n",
    "3. Quote the whole section so the user can see where the information has come from. Always include the <quote> tags, including the title, when quoting.\n",
    "4. Always start quotes with \"<quote>\" and end quotes with \"</quote>\"\n",
    "5. Quote multiple sections if relevant, but always quote whole sections using the correct format.\n",
    "6. Use the term \"Reference information\" instead of \"context information\"\n",
    "7. Always quote whole sections verbatim, not a subset.\n",
    "\n",
    "\"\"\""
   ]
  },
  {
   "cell_type": "code",
   "execution_count": 10,
   "id": "1638ce55-d328-4be0-b622-3b596bab7b6e",
   "metadata": {},
   "outputs": [],
   "source": [
    "class Response(BaseModel):\n",
    "    message: str"
   ]
  },
  {
   "cell_type": "code",
   "execution_count": 17,
   "id": "7c077766-e7ab-4725-a6aa-51a0972f5f81",
   "metadata": {},
   "outputs": [],
   "source": [
    "def get_response(developer_instruction, user_instruction, chunks, query):\n",
    "    return client.chat.completions.create(\n",
    "        model=\"gpt-4o-mini\",\n",
    "        response_model=Response,\n",
    "        messages=[\n",
    "            {\n",
    "                \"role\": \"developer\",\n",
    "                \"content\": f\"{developer_instruction}\",\n",
    "            },\n",
    "            {\n",
    "                \"role\": \"user\",\n",
    "                \"content\": f\"{user_instruction}\",\n",
    "            },\n",
    "            {\n",
    "                \"role\": \"user\",\n",
    "                \"content\": f\"{chunks}\",\n",
    "            },\n",
    "            {\n",
    "                \"role\": \"user\",\n",
    "                \"content\": f\"Query: {query}\",\n",
    "            },\n",
    "        ],\n",
    "    )"
   ]
  },
  {
   "cell_type": "code",
   "execution_count": 24,
   "id": "ea74ba38-dd4d-4048-80d9-d54c3cca9450",
   "metadata": {},
   "outputs": [],
   "source": [
    "q = \"What's the name of the graduate school?\"\n",
    "r = get_response(\n",
    "    system_prompt,\n",
    "    user_instruction,\n",
    "    psu_info_chunked,\n",
    "    q,\n",
    ")"
   ]
  },
  {
   "cell_type": "code",
   "execution_count": 25,
   "id": "c3339283-87f9-4e2e-8476-d9b5e79b8146",
   "metadata": {},
   "outputs": [
    {
     "name": "stdout",
     "output_type": "stream",
     "text": [
      "The name of the graduate school is the J. Jeffrey and Ann Marie Fox Graduate School. This information can be referenced from the following section:\n",
      "\n",
      "<quote>\n",
      "<title>section-06</title>\n",
      "Penn State began offering systematic advanced-degree work in 1922 with the formation of the Graduate School \n",
      "(now the J. Jeffrey and Ann Marie Fox Graduate School). Graduate education and research evolved hand in hand. \n",
      "By 1950 the University had won international distinction for investigations in dairy science, building insulation,\n",
      "diesel engines, and acoustics, and other specialized fields.\n",
      "</quote>\n"
     ]
    }
   ],
   "source": [
    "print(r.message)"
   ]
  },
  {
   "cell_type": "code",
   "execution_count": 26,
   "id": "099085cc-9599-4a13-8d82-dff6ce0155b3",
   "metadata": {},
   "outputs": [],
   "source": [
    "q = \"What's the location of Pennsylvania College of Technology?\"\n",
    "r = get_response(\n",
    "    system_prompt,\n",
    "    user_instruction,\n",
    "    psu_info_chunked,\n",
    "    q,\n",
    ")"
   ]
  },
  {
   "cell_type": "code",
   "execution_count": 27,
   "id": "48b65d79-7e0a-4a74-ba19-55e1822cf7fe",
   "metadata": {},
   "outputs": [
    {
     "name": "stdout",
     "output_type": "stream",
     "text": [
      "The Pennsylvania College of Technology is located in Williamsport, Pennsylvania. This information is derived from the following section of the reference information:\n",
      "\n",
      "<quote>\n",
      "<title>section-07</title>\n",
      "A college of medicine and teaching hospital were established in 1967 with a $50 million gift from the charitable trusts of renowned chocolate magnate Milton S. Hershey. In 1989, the Pennsylvania College of Technology in Williamsport became an affiliate of the University. In 2000, Penn State and the Dickinson School of Law merged, meaning the University now operates two law schools—Dickinson Law (in Carlisle, Pennsylvania) and Penn State Law (on the University Park campus). Penn State's online World Campus graduated its first students in 2000.\n",
      "</quote>\n"
     ]
    }
   ],
   "source": [
    "print(r.message)"
   ]
  },
  {
   "cell_type": "code",
   "execution_count": 28,
   "id": "663dd252-6b9e-49d3-ae7a-a0ad008b0abf",
   "metadata": {},
   "outputs": [],
   "source": [
    "q = \"What's the location of College of Information Sciences and Technology?\"\n",
    "r = get_response(\n",
    "    system_prompt,\n",
    "    user_instruction,\n",
    "    psu_info_chunked,\n",
    "    q,\n",
    ")"
   ]
  },
  {
   "cell_type": "code",
   "execution_count": 29,
   "id": "a8a46c7b-1aff-4487-a6e4-7a782bbd3349",
   "metadata": {},
   "outputs": [
    {
     "name": "stdout",
     "output_type": "stream",
     "text": [
      "The reference information provided does not specifically mention the location of the College of Information Sciences and Technology at Penn State. Therefore, I cannot provide an answer based on the given quotes.\n"
     ]
    }
   ],
   "source": [
    "print(r.message)"
   ]
  },
  {
   "cell_type": "markdown",
   "id": "30bc25a5-f6c2-4463-a188-983edb6aedfd",
   "metadata": {},
   "source": [
    "# ToDo: When does it fail?\n",
    "\n",
    "* Doesn't provide answer when the information is contained there\n",
    "* Hallucinate"
   ]
  },
  {
   "cell_type": "markdown",
   "id": "7e1db75d-5e3d-48d4-985e-5b28e8adc134",
   "metadata": {},
   "source": [
    "# ToDo: Retrieve Palliative Care Guideline\n",
    "\n",
    "We will use the [Care Management by Oncology Nurses (CONNECT) intervention](https://pmc.ncbi.nlm.nih.gov/articles/PMC4347888/) guideline.\n",
    "It provides recommendations for managing differnt symptoms for individuals with advanced cancer (in  palliative care). For this activity,\n",
    "we will focus on fatigue guidelines (in Canvas -> Files -> Activity -> Activity-06 -> fatigue.docx).\n",
    "\n",
    "You will write a function that will take a fatigue assessment (0–10 scale) and return a guideline. E.g.:\n",
    "\n",
    "```\n",
    "def get_fatigue_guideline(fatigue: int) -> str:\n",
    "    return f\"{fatigue}\"\n",
    "```\n",
    "\n",
    "* It is impretative the guideline is correct\n",
    "    +  It must be from the provided guidelines (i.e., no external resource)\n",
    "    +  It must correspond to a given fatigue level\n",
    "* The guideline must be verbatim (i.e., no added text)\n",
    "* For a given fatigue level, the guideline must be random (we can't just return the first guideline)\n",
    "\n",
    "## Strategy\n",
    "* How would you chunk the given document?\n",
    "* How would you strip any chunking information or reference (note that you will have to return verbatim guideline)\n",
    "* How would you ensure randomized selection?\n",
    "* Can CoT/few-shot prompting be useful here?\n",
    "\n"
   ]
  },
  {
   "cell_type": "markdown",
   "id": "499459e3-1d23-446d-9499-8690b92c3b27",
   "metadata": {},
   "source": [
    "# ToDo: Generate intervention messages\n",
    "\n",
    "Now that you can correctly extract guideline for a given fatigue level, let's generate intervention messages\n",
    "for a patient based on the extracted guideline. E.g.:\n",
    "\n",
    "```\n",
    "def create_intervention(fatigue: int) -> str:\n",
    "    guideline = get_fatigue_guideline(fatigue)\n",
    "    ...\n",
    "```\n",
    "\n",
    "The generated intervention must be:\n",
    "\n",
    "* accurate\n",
    "* less than 160 characters\n",
    "* empathetic, providing emotional and spiritual support\n",
    "* fifth grade readability level ([why?](https://www.thenationalliteracyinstitute.com/post/literacy-statistics-2024-2025-where-we-are-now#:~:text=On%20average%2C%2079%25%20of%20U.S.,US%20ranks%2036th%20in%20literacy.))\n"
   ]
  },
  {
   "cell_type": "code",
   "execution_count": null,
   "id": "6a524465-0d40-405c-933a-c5f3055aa928",
   "metadata": {},
   "outputs": [],
   "source": []
  }
 ],
 "metadata": {
  "kernelspec": {
   "display_name": "Python 3 (ipykernel)",
   "language": "python",
   "name": "python3"
  },
  "language_info": {
   "codemirror_mode": {
    "name": "ipython",
    "version": 3
   },
   "file_extension": ".py",
   "mimetype": "text/x-python",
   "name": "python",
   "nbconvert_exporter": "python",
   "pygments_lexer": "ipython3",
   "version": "3.13.2"
  }
 },
 "nbformat": 4,
 "nbformat_minor": 5
}
