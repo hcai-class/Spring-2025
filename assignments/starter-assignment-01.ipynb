{
 "cells": [
  {
   "cell_type": "code",
   "execution_count": 49,
   "id": "a5d83884-15a2-471a-9455-3e61f64220ec",
   "metadata": {
    "editable": true,
    "slideshow": {
     "slide_type": ""
    },
    "tags": []
   },
   "outputs": [],
   "source": [
    "%load_ext jupyter_black"
   ]
  },
  {
   "cell_type": "code",
   "execution_count": 1,
   "id": "93743cd5-1ab9-4747-8c49-4b5c31f5c9f0",
   "metadata": {
    "editable": true,
    "slideshow": {
     "slide_type": ""
    },
    "tags": []
   },
   "outputs": [],
   "source": [
    "import os\n",
    "import instructor\n",
    "from pydantic import BaseModel\n",
    "from openai import OpenAI\n",
    "import getpass"
   ]
  },
  {
   "cell_type": "markdown",
   "id": "642877cb-7666-4a72-96fd-4df3cbfa1b2e",
   "metadata": {},
   "source": [
    "We will use `polars` for data wrangling.\\\n",
    "We will also use `sklearn` to calculate accuracy score and performance metrics."
   ]
  },
  {
   "cell_type": "code",
   "execution_count": 51,
   "id": "ab53f6e0-f491-4808-8a1f-c0a705e365ee",
   "metadata": {
    "editable": true,
    "slideshow": {
     "slide_type": ""
    },
    "tags": []
   },
   "outputs": [],
   "source": [
    "import polars as pl\n",
    "from polars import DataFrame\n",
    "import sklearn"
   ]
  },
  {
   "cell_type": "code",
   "execution_count": 53,
   "id": "81d82f8a-04f2-46fb-9dc9-a7747259f603",
   "metadata": {
    "editable": true,
    "slideshow": {
     "slide_type": ""
    },
    "tags": []
   },
   "outputs": [],
   "source": [
    "# load train and test datasets\n",
    "train = pl.read_csv(\"./dataset/train-assignment-01.csv\")\n",
    "test = pl.read_csv(\"./dataset/test-assignment-01.csv\")"
   ]
  },
  {
   "cell_type": "code",
   "execution_count": 7,
   "id": "6a04e31e-b464-4725-ab91-d07457869417",
   "metadata": {},
   "outputs": [
    {
     "name": "stdin",
     "output_type": "stream",
     "text": [
      "Your API key: \n",
      " ········\n"
     ]
    }
   ],
   "source": [
    "_API_KEY = getpass.getpass(\"Your API key: \\n\")"
   ]
  },
  {
   "cell_type": "code",
   "execution_count": 8,
   "id": "527e89bd-3a22-47e3-8b1a-0375aa7c6217",
   "metadata": {
    "editable": true,
    "slideshow": {
     "slide_type": ""
    },
    "tags": []
   },
   "outputs": [],
   "source": [
    "open_ai = OpenAI(api_key=_API_KEY)\n",
    "client = instructor.from_openai(open_ai, mode=instructor.Mode.TOOLS_STRICT)"
   ]
  },
  {
   "cell_type": "code",
   "execution_count": 54,
   "id": "acabd8db-8de0-4ef1-8d92-05fb38338bf3",
   "metadata": {
    "editable": true,
    "slideshow": {
     "slide_type": ""
    },
    "tags": []
   },
   "outputs": [],
   "source": [
    "class EmotionPromptingResponse(BaseModel):\n",
    "    label: str"
   ]
  },
  {
   "cell_type": "code",
   "execution_count": 55,
   "id": "7b34b276-35bd-4f4f-8290-8bbbba277790",
   "metadata": {},
   "outputs": [],
   "source": [
    "def emotion_prompting(message):\n",
    "    return client.chat.completions.create(\n",
    "        model=\"gpt-4o-mini\",\n",
    "        response_model=EmotionPromptingResponse,\n",
    "        messages=[\n",
    "            {\n",
    "                \"role\": \"developer\",\n",
    "                \"content\": \"\"\"You will act as a text classifier. \n",
    "                           Each message must be labeled as suicide, depression, or other.\n",
    "                           This is very important for my class.\n",
    "                           Please, bestie, help me get a good grade.\n",
    "                           \"\"\",\n",
    "            },\n",
    "            {\n",
    "                \"role\": \"user\",\n",
    "                \"content\": f\"{message}\",\n",
    "            },\n",
    "        ],\n",
    "    )"
   ]
  },
  {
   "cell_type": "code",
   "execution_count": 62,
   "id": "a1aa593c-1ba2-4a55-811c-db9e50c28325",
   "metadata": {},
   "outputs": [
    {
     "data": {
      "text/html": [
       "<div><style>\n",
       ".dataframe > thead > tr,\n",
       ".dataframe > tbody > tr {\n",
       "  text-align: right;\n",
       "  white-space: pre-wrap;\n",
       "}\n",
       "</style>\n",
       "<small>shape: (5, 2)</small><table border=\"1\" class=\"dataframe\"><thead><tr><th>text</th><th>class</th></tr><tr><td>str</td><td>str</td></tr></thead><tbody><tr><td>&quot;Trapped inside a voidDear whoe…</td><td>&quot;suicide&quot;</td></tr><tr><td>&quot;the bla bla bla on drugs and c…</td><td>&quot;depression&quot;</td></tr><tr><td>&quot;I love you so fucking muchIt s…</td><td>&quot;depression&quot;</td></tr><tr><td>&quot;What is the best way to do it?…</td><td>&quot;suicide&quot;</td></tr><tr><td>&quot;I learnt a new skill today! I …</td><td>&quot;other&quot;</td></tr></tbody></table></div>"
      ],
      "text/plain": [
       "shape: (5, 2)\n",
       "┌─────────────────────────────────┬────────────┐\n",
       "│ text                            ┆ class      │\n",
       "│ ---                             ┆ ---        │\n",
       "│ str                             ┆ str        │\n",
       "╞═════════════════════════════════╪════════════╡\n",
       "│ Trapped inside a voidDear whoe… ┆ suicide    │\n",
       "│ the bla bla bla on drugs and c… ┆ depression │\n",
       "│ I love you so fucking muchIt s… ┆ depression │\n",
       "│ What is the best way to do it?… ┆ suicide    │\n",
       "│ I learnt a new skill today! I … ┆ other      │\n",
       "└─────────────────────────────────┴────────────┘"
      ]
     },
     "execution_count": 62,
     "metadata": {},
     "output_type": "execute_result"
    }
   ],
   "source": [
    "# what does the data look like?\n",
    "train.head()"
   ]
  },
  {
   "cell_type": "code",
   "execution_count": 97,
   "id": "89198185-2e6e-49ac-95d5-27c74673baab",
   "metadata": {
    "editable": true,
    "slideshow": {
     "slide_type": ""
    },
    "tags": []
   },
   "outputs": [],
   "source": [
    "y_pred = []  # predictions from the classifer\n",
    "y_true = []  # actual labels\n",
    "\n",
    "# just the first top 10 examples\n",
    "egs = train.slice(0, 10)\n",
    "for r in egs.iter_rows():\n",
    "    c = emotion_prompting(r[0])\n",
    "    y_pred.append(c.label)\n",
    "    y_true.append(r[1])"
   ]
  },
  {
   "cell_type": "code",
   "execution_count": 98,
   "id": "418d1d95-03c4-4853-a7c8-6b0217aafcea",
   "metadata": {
    "editable": true,
    "slideshow": {
     "slide_type": ""
    },
    "tags": []
   },
   "outputs": [
    {
     "data": {
      "text/plain": [
       "0.7"
      ]
     },
     "execution_count": 98,
     "metadata": {},
     "output_type": "execute_result"
    }
   ],
   "source": [
    "# let's calculate the accuracy\n",
    "sklearn.metrics.accuracy_score(y_true, y_pred)"
   ]
  },
  {
   "cell_type": "code",
   "execution_count": 59,
   "id": "88793ce1-d2c0-4802-afef-f1725e74516c",
   "metadata": {},
   "outputs": [
    {
     "data": {
      "text/plain": [
       "array([[3, 1, 0],\n",
       "       [0, 2, 0],\n",
       "       [1, 0, 3]])"
      ]
     },
     "execution_count": 59,
     "metadata": {},
     "output_type": "execute_result"
    }
   ],
   "source": [
    "# confusion matrix\n",
    "sklearn.metrics.confusion_matrix(y_true=y_true, y_pred=y_pred)"
   ]
  },
  {
   "cell_type": "code",
   "execution_count": 60,
   "id": "cb4fd327-dff0-4b2a-b739-8d24f8ee08de",
   "metadata": {
    "editable": true,
    "slideshow": {
     "slide_type": ""
    },
    "tags": []
   },
   "outputs": [
    {
     "name": "stdout",
     "output_type": "stream",
     "text": [
      "['depression', 'depression', 'depression', 'suicide', 'other', 'suicide', 'suicide', 'other', 'depression', 'other']\n",
      "['suicide', 'depression', 'depression', 'suicide', 'other', 'suicide', 'suicide', 'depression', 'depression', 'other']\n"
     ]
    }
   ],
   "source": [
    "print(y_pred)\n",
    "print(y_true)"
   ]
  },
  {
   "cell_type": "code",
   "execution_count": 99,
   "id": "cc2208a4-ff1d-4b30-b573-b6791362ad37",
   "metadata": {},
   "outputs": [],
   "source": [
    "def filter_rows(df, y_pred, incorrect_predictions=True):\n",
    "    \"\"\"\n",
    "    Filter rows based on prediction accuracy\n",
    "\n",
    "    Parameters\n",
    "    ----------\n",
    "    df: DataFrame.\n",
    "    y_pred: Iterable.\n",
    "        Predicted class for the rows in `df`.\n",
    "    incorrect_predictions: boolean, default=True.\n",
    "        When true, it will select incorrect predictions. Otherwise, it\n",
    "        returns correct predictions.\n",
    "    \"\"\"\n",
    "    df = pl.concat([df, pl.DataFrame({\"y_pred\": pl.Series(y_pred)})], how=\"horizontal\")\n",
    "    if incorrect_predictions:\n",
    "        return df.filter(pl.col(\"y_pred\") != pl.col(\"class\"))\n",
    "    else:\n",
    "        return df.filter(pl.col(\"y_pred\") == pl.col(\"class\"))"
   ]
  },
  {
   "cell_type": "code",
   "execution_count": 101,
   "id": "b792b30b-6750-46e0-bd0f-020c30603f02",
   "metadata": {},
   "outputs": [
    {
     "data": {
      "text/html": [
       "<div><style>\n",
       ".dataframe > thead > tr,\n",
       ".dataframe > tbody > tr {\n",
       "  text-align: right;\n",
       "  white-space: pre-wrap;\n",
       "}\n",
       "</style>\n",
       "<small>shape: (3, 3)</small><table border=\"1\" class=\"dataframe\"><thead><tr><th>text</th><th>class</th><th>y_pred</th></tr><tr><td>str</td><td>str</td><td>str</td></tr></thead><tbody><tr><td>&quot;Trapped inside a voidDear whoe…</td><td>&quot;suicide&quot;</td><td>&quot;depression&quot;</td></tr><tr><td>&quot;The graveyard of redditAnyone …</td><td>&quot;suicide&quot;</td><td>&quot;depression&quot;</td></tr><tr><td>&quot;I respect you all, so mutch.In…</td><td>&quot;depression&quot;</td><td>&quot;other&quot;</td></tr></tbody></table></div>"
      ],
      "text/plain": [
       "shape: (3, 3)\n",
       "┌─────────────────────────────────┬────────────┬────────────┐\n",
       "│ text                            ┆ class      ┆ y_pred     │\n",
       "│ ---                             ┆ ---        ┆ ---        │\n",
       "│ str                             ┆ str        ┆ str        │\n",
       "╞═════════════════════════════════╪════════════╪════════════╡\n",
       "│ Trapped inside a voidDear whoe… ┆ suicide    ┆ depression │\n",
       "│ The graveyard of redditAnyone … ┆ suicide    ┆ depression │\n",
       "│ I respect you all, so mutch.In… ┆ depression ┆ other      │\n",
       "└─────────────────────────────────┴────────────┴────────────┘"
      ]
     },
     "execution_count": 101,
     "metadata": {},
     "output_type": "execute_result"
    }
   ],
   "source": [
    "# which ones did the LLM get wrong?\n",
    "filter_rows(egs, y_pred)"
   ]
  },
  {
   "cell_type": "code",
   "execution_count": 102,
   "id": "3ff35637-f7fb-4f99-8be3-f630741e16e0",
   "metadata": {},
   "outputs": [
    {
     "data": {
      "text/html": [
       "<div><style>\n",
       ".dataframe > thead > tr,\n",
       ".dataframe > tbody > tr {\n",
       "  text-align: right;\n",
       "  white-space: pre-wrap;\n",
       "}\n",
       "</style>\n",
       "<small>shape: (7, 3)</small><table border=\"1\" class=\"dataframe\"><thead><tr><th>text</th><th>class</th><th>y_pred</th></tr><tr><td>str</td><td>str</td><td>str</td></tr></thead><tbody><tr><td>&quot;the bla bla bla on drugs and c…</td><td>&quot;depression&quot;</td><td>&quot;depression&quot;</td></tr><tr><td>&quot;I love you so fucking muchIt s…</td><td>&quot;depression&quot;</td><td>&quot;depression&quot;</td></tr><tr><td>&quot;What is the best way to do it?…</td><td>&quot;suicide&quot;</td><td>&quot;suicide&quot;</td></tr><tr><td>&quot;I learnt a new skill today! I …</td><td>&quot;other&quot;</td><td>&quot;other&quot;</td></tr><tr><td>&quot;Do you think getting hit by a …</td><td>&quot;suicide&quot;</td><td>&quot;suicide&quot;</td></tr><tr><td>&quot;The people in my life who I am…</td><td>&quot;depression&quot;</td><td>&quot;depression&quot;</td></tr><tr><td>&quot;Put opinions here Just say any…</td><td>&quot;other&quot;</td><td>&quot;other&quot;</td></tr></tbody></table></div>"
      ],
      "text/plain": [
       "shape: (7, 3)\n",
       "┌─────────────────────────────────┬────────────┬────────────┐\n",
       "│ text                            ┆ class      ┆ y_pred     │\n",
       "│ ---                             ┆ ---        ┆ ---        │\n",
       "│ str                             ┆ str        ┆ str        │\n",
       "╞═════════════════════════════════╪════════════╪════════════╡\n",
       "│ the bla bla bla on drugs and c… ┆ depression ┆ depression │\n",
       "│ I love you so fucking muchIt s… ┆ depression ┆ depression │\n",
       "│ What is the best way to do it?… ┆ suicide    ┆ suicide    │\n",
       "│ I learnt a new skill today! I … ┆ other      ┆ other      │\n",
       "│ Do you think getting hit by a … ┆ suicide    ┆ suicide    │\n",
       "│ The people in my life who I am… ┆ depression ┆ depression │\n",
       "│ Put opinions here Just say any… ┆ other      ┆ other      │\n",
       "└─────────────────────────────────┴────────────┴────────────┘"
      ]
     },
     "execution_count": 102,
     "metadata": {},
     "output_type": "execute_result"
    }
   ],
   "source": [
    "# which ones did the LLM get right?\n",
    "filter_rows(egs, y_pred, incorrect_predictions=False)"
   ]
  },
  {
   "cell_type": "code",
   "execution_count": null,
   "id": "ec77e9e7-c12a-4c4e-9718-384da13976f2",
   "metadata": {},
   "outputs": [],
   "source": []
  }
 ],
 "metadata": {
  "kernelspec": {
   "display_name": "Python 3 (ipykernel)",
   "language": "python",
   "name": "python3"
  },
  "language_info": {
   "codemirror_mode": {
    "name": "ipython",
    "version": 3
   },
   "file_extension": ".py",
   "mimetype": "text/x-python",
   "name": "python",
   "nbconvert_exporter": "python",
   "pygments_lexer": "ipython3",
   "version": "3.13.1"
  }
 },
 "nbformat": 4,
 "nbformat_minor": 5
}
